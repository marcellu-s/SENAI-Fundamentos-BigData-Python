{
 "cells": [
  {
   "cell_type": "markdown",
   "metadata": {},
   "source": [
    "### Primeiro comando"
   ]
  },
  {
   "cell_type": "code",
   "execution_count": 6,
   "metadata": {},
   "outputs": [
    {
     "name": "stdout",
     "output_type": "stream",
     "text": [
      "Hello World!\n"
     ]
    }
   ],
   "source": [
    "print(\"Hello World!\")"
   ]
  },
  {
   "cell_type": "markdown",
   "metadata": {},
   "source": [
    "### Exercício 01\n",
    "\n",
    "> Crie um programa para receber dois valores e em seguida, exiba o valor da soma."
   ]
  },
  {
   "cell_type": "code",
   "execution_count": 14,
   "metadata": {},
   "outputs": [
    {
     "name": "stdout",
     "output_type": "stream",
     "text": [
      "31\n"
     ]
    }
   ],
   "source": [
    "num1 = 20\n",
    "num2 = 5\n",
    "num3 = 6 \n",
    "\n",
    "print(num1 + num2 + num3)"
   ]
  },
  {
   "cell_type": "markdown",
   "metadata": {},
   "source": [
    "### Exercício 10\n",
    "\n",
    "> Faça um Programa que converta metros para centímetros."
   ]
  },
  {
   "cell_type": "code",
   "execution_count": 36,
   "metadata": {},
   "outputs": [
    {
     "name": "stdout",
     "output_type": "stream",
     "text": [
      "4.0 em Centímetros: \u001b[1;32m400.00\u001b[m\n"
     ]
    }
   ],
   "source": [
    "while True:\n",
    "    try:\n",
    "        metros = float(input(\"Informe um valor em metros: \"))\n",
    "        break\n",
    "    except:\n",
    "\n",
    "        print(f\"\\033[1;31mInforme um valor válido\\033[m\")\n",
    "        continue\n",
    "\n",
    "cent = metros * 100\n",
    "print(f\"{metros} em centímetros: \\033[1;32m{cent:.2f}\\033[m\")"
   ]
  },
  {
   "cell_type": "markdown",
   "metadata": {},
   "source": [
    "### Exercício 11\n",
    "\n",
    "> Faça um Programa que peça o raio de um círculo, calcule e mostre sua área."
   ]
  },
  {
   "cell_type": "code",
   "execution_count": 39,
   "metadata": {},
   "outputs": [
    {
     "name": "stdout",
     "output_type": "stream",
     "text": [
      "área: \u001b[1;32m3216.99\u001b[m\n"
     ]
    }
   ],
   "source": [
    "from math import pi\n",
    "\n",
    "while True:\n",
    "    try:\n",
    "        raio = float(input(\"Informe o raio: \"))\n",
    "        break\n",
    "    except:\n",
    "\n",
    "        print(f\"\\033[1;31mInforme um valor válido\\033[m\")\n",
    "        continue\n",
    "\n",
    "area = pi * (raio ** 2)\n",
    "\n",
    "print(f\"área: \\033[1;32m{area:.2f}\\033[m\")"
   ]
  },
  {
   "cell_type": "markdown",
   "metadata": {},
   "source": [
    "### Exercício 12\n",
    "\n",
    "> Faça um Programa que calcule a área de um quadrado, em seguida mostre o dobro desta área para o usuário."
   ]
  },
  {
   "cell_type": "code",
   "execution_count": 40,
   "metadata": {},
   "outputs": [
    {
     "name": "stdout",
     "output_type": "stream",
     "text": [
      "área: \u001b[1;32m10.56\u001b[m\n"
     ]
    }
   ],
   "source": [
    "while True:\n",
    "    try:\n",
    "        lado = float(input(\"Informe um lado do quadrado: \"))\n",
    "        break\n",
    "    except:\n",
    "\n",
    "        print(f\"\\033[1;31mInforme um valor válido\\033[m\")\n",
    "        continue\n",
    "\n",
    "area = lado ** 2\n",
    "\n",
    "print(f\"área: \\033[1;32m{area:.2f}\\033[m\")"
   ]
  },
  {
   "cell_type": "markdown",
   "metadata": {},
   "source": [
    "### Exercício 13\n",
    "\n",
    "> Faça um Programa que pergunte quanto você ganha por hora e o número de horas trabalhadas no mês. Calcule e mostre o total do seu salário no referido mês."
   ]
  },
  {
   "cell_type": "code",
   "execution_count": 57,
   "metadata": {},
   "outputs": [
    {
     "name": "stdout",
     "output_type": "stream",
     "text": [
      "Salário no referido mês: \u001b[1;32mR$ 1.596.00\u001b[m\n"
     ]
    }
   ],
   "source": [
    "while True:\n",
    "    try:\n",
    "        salário = float(input(\"Informe quanto você ganha por horas trabalhadas: R$\"))\n",
    "        horas = float(input(\"Informe as horas trabalhadas no mês: \"))\n",
    "        break\n",
    "    except:\n",
    "\n",
    "        print(f\"\\033[1;31mInforme um valor válido\\033[m\") \n",
    "        continue\n",
    "\n",
    "salarioMes = salário * horas\n",
    "\n",
    "print(f\"Salário no referido mês: \\033[1;32mR$ {f'{salarioMes:,.2f}'.replace(',', '.')}\\033[m\")"
   ]
  },
  {
   "cell_type": "markdown",
   "metadata": {},
   "source": [
    "### Exercício 14\n",
    "\n",
    "> Faça um Programa que peça a temperatura em graus Fahrenheit, transforme e mostre a temperatura em graus Celsius."
   ]
  },
  {
   "cell_type": "code",
   "execution_count": 59,
   "metadata": {},
   "outputs": [
    {
     "name": "stdout",
     "output_type": "stream",
     "text": [
      "14.0 ºF para Celsius: \u001b[1;32m-10.0 ºC\u001b[m\n"
     ]
    }
   ],
   "source": [
    "while True:\n",
    "    try:\n",
    "        fahrenheit = float(input(\"Informe uma temperatura em graus Fahrenheit (ºF): \"))\n",
    "        break\n",
    "    except:\n",
    "\n",
    "        print(f\"\\033[1;31mInforme um valor válido\\033[m\")\n",
    "        continue\n",
    "\n",
    "toCelsius = (fahrenheit - 32) * 5 / 9\n",
    "\n",
    "print(f\"{fahrenheit} ºF para Celsius: \\033[1;32m{toCelsius} ºC\\033[m\")"
   ]
  },
  {
   "cell_type": "markdown",
   "metadata": {},
   "source": [
    "### Exercício 15\n",
    "\n",
    "> Faça um Programa que peça a temperatura em graus Celsius, transforme e mostre em graus Fahrenheit."
   ]
  },
  {
   "cell_type": "code",
   "execution_count": 60,
   "metadata": {},
   "outputs": [
    {
     "name": "stdout",
     "output_type": "stream",
     "text": [
      "32.0 ºC para Fahrenheit: \u001b[1;32m89.6 ºC\u001b[m\n"
     ]
    }
   ],
   "source": [
    "while True:\n",
    "    try:\n",
    "        celsius = float(input(\"Informe uma temperatura em graus Celsius (ºC): \"))\n",
    "        break\n",
    "    except:\n",
    "\n",
    "        print(f\"\\033[1;31mInforme um valor válido\\033[m\")\n",
    "        continue\n",
    "\n",
    "toFahrenheit = (celsius * 9/5) + 32\n",
    "\n",
    "print(f\"{celsius} ºC para Fahrenheit: \\033[1;32m{toFahrenheit} ºC\\033[m\")"
   ]
  }
 ],
 "metadata": {
  "kernelspec": {
   "display_name": "Python 3",
   "language": "python",
   "name": "python3"
  },
  "language_info": {
   "codemirror_mode": {
    "name": "ipython",
    "version": 3
   },
   "file_extension": ".py",
   "mimetype": "text/x-python",
   "name": "python",
   "nbconvert_exporter": "python",
   "pygments_lexer": "ipython3",
   "version": "3.11.0"
  }
 },
 "nbformat": 4,
 "nbformat_minor": 2
}
