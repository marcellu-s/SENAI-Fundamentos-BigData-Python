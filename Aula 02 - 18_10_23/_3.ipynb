{
 "cells": [
  {
   "cell_type": "markdown",
   "metadata": {},
   "source": [
    "## Exercícios - Estrutura de decisão"
   ]
  },
  {
   "cell_type": "markdown",
   "metadata": {},
   "source": [
    "### Importando módulos úteis"
   ]
  },
  {
   "cell_type": "code",
   "execution_count": 14,
   "metadata": {},
   "outputs": [],
   "source": [
    "from modules import *\n",
    "from math import floor"
   ]
  },
  {
   "cell_type": "markdown",
   "metadata": {},
   "source": [
    "### Exercício 01\n",
    "\n",
    "> Crie uma variável chamada \"idade\" e atribua um valor inteiro a ela.\n",
    "Verifique se a idade é maior ou igual a 18 e imprima \"Maior de idade\" ou \"Menor de\n",
    "idade\" de acordo com a condição."
   ]
  },
  {
   "cell_type": "code",
   "execution_count": 6,
   "metadata": {},
   "outputs": [
    {
     "name": "stdout",
     "output_type": "stream",
     "text": [
      "17 ano(s) - Menor de idade\n"
     ]
    }
   ],
   "source": [
    "age = inputInt(\"Informe sua idade: \")\n",
    "\n",
    "print(f\"{age} ano(s) - Maior de idade\" if age >= 18 else f\"{age} ano(s) - Menor de idade\")"
   ]
  },
  {
   "cell_type": "markdown",
   "metadata": {},
   "source": [
    "### Exercício 02\n",
    "\n",
    "> Crie uma variável chamada \"número\" e atribua um valor inteiro a ela.\n",
    "Verifique se o número é positivo, negativo ou zero e imprima a mensagem\n",
    "correspondente."
   ]
  },
  {
   "cell_type": "code",
   "execution_count": 10,
   "metadata": {},
   "outputs": [
    {
     "name": "stdout",
     "output_type": "stream",
     "text": [
      "0 é 0\n"
     ]
    }
   ],
   "source": [
    "value = inputInt(\"Digite um número: \")\n",
    "\n",
    "print(f\"{value} é positivo\" if value > 0 else f\"{value} é negativo\" if value < 0 else f\"{value} é neutro\")\n",
    "    "
   ]
  },
  {
   "cell_type": "markdown",
   "metadata": {},
   "source": [
    "### Exercício 03\n",
    "\n",
    "> Crie duas variáveis, \"nota1\" e \"nota2\", e atribua valores numéricos a elas.\n",
    "Verifique se a média das notas é maior ou igual a 7 e imprima \"Aprovado\" ou\n",
    "\"Reprovado\" de acordo com a condição."
   ]
  },
  {
   "cell_type": "code",
   "execution_count": 20,
   "metadata": {},
   "outputs": [
    {
     "name": "stdout",
     "output_type": "stream",
     "text": [
      "Um ou ambos dos valores são inválidos!\n",
      "5 - REPROVADO\n"
     ]
    }
   ],
   "source": [
    "while True:\n",
    "\n",
    "    nota1 = inputFloat(\"Informe uma nota entre 0 e 10: \")\n",
    "    nota2 = inputFloat(\"Informe outra nota entre 0 e 10: \")\n",
    "\n",
    "    if 0 <= nota1 <= 10 and 0 <= nota2 <= 10:\n",
    "\n",
    "        break\n",
    "\n",
    "    print(\"Um ou ambos dos valores são inválidos!\")\n",
    "\n",
    "    continue\n",
    "\n",
    "media = floor((nota1 + nota2) / 2)\n",
    "\n",
    "print(f\"{media} - APROVADO\" if media >= 7 else f\"{media} - REPROVADO\")\n"
   ]
  }
 ],
 "metadata": {
  "kernelspec": {
   "display_name": "Python 3",
   "language": "python",
   "name": "python3"
  },
  "language_info": {
   "codemirror_mode": {
    "name": "ipython",
    "version": 3
   },
   "file_extension": ".py",
   "mimetype": "text/x-python",
   "name": "python",
   "nbconvert_exporter": "python",
   "pygments_lexer": "ipython3",
   "version": "3.11.0"
  }
 },
 "nbformat": 4,
 "nbformat_minor": 2
}
