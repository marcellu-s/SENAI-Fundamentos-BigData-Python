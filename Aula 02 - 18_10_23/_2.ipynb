{
 "cells": [
  {
   "cell_type": "markdown",
   "metadata": {},
   "source": [
    "### Importando modulos utéis"
   ]
  },
  {
   "cell_type": "code",
   "execution_count": 85,
   "metadata": {},
   "outputs": [],
   "source": [
    "from modules import *\n",
    "from math import ceil"
   ]
  },
  {
   "cell_type": "markdown",
   "metadata": {},
   "source": [
    "### Exercício 02\n",
    "\n",
    "> Crie um programa para receber dois valores e em seguida, exiba o valor da diferença entre eles."
   ]
  },
  {
   "cell_type": "code",
   "execution_count": 19,
   "metadata": {},
   "outputs": [
    {
     "name": "stdout",
     "output_type": "stream",
     "text": [
      "Diferença entre 7.0 e 5.0 é: \u001b[1;32m2.0\u001b[m\n"
     ]
    }
   ],
   "source": [
    "number_1 = inputFloat(\"Digite um número: \")\n",
    "number_2 = inputFloat(\"Digite outro número: \")\n",
    "\n",
    "dif = number_1 - number_2\n",
    "\n",
    "print(f\"Diferença entre {number_1} e {number_2} é: {colors(dif, 'green')}\")"
   ]
  },
  {
   "cell_type": "markdown",
   "metadata": {},
   "source": [
    "### Exercício 03\n",
    "\n",
    "> Crie um programa para receber dois valores e em seguida, exiba o produto entre eles."
   ]
  },
  {
   "cell_type": "code",
   "execution_count": 23,
   "metadata": {},
   "outputs": [
    {
     "name": "stdout",
     "output_type": "stream",
     "text": [
      "12.0 x 45.0 = \u001b[1;32m540.0\u001b[m\n"
     ]
    }
   ],
   "source": [
    "number_1 = inputFloat(\"Digite um número: \")\n",
    "number_2 = inputFloat(\"Digite outro número: \")\n",
    "\n",
    "prod = number_1 * number_2\n",
    "\n",
    "print(f\"{number_1} x {number_2} = {colors(prod, 'green')}\")"
   ]
  },
  {
   "cell_type": "markdown",
   "metadata": {},
   "source": [
    "### Exercício 04\n",
    "\n",
    "> Crie um programa para receber dois valores e em seguida, exiba o quociente entre eles."
   ]
  },
  {
   "cell_type": "code",
   "execution_count": 4,
   "metadata": {},
   "outputs": [
    {
     "name": "stdout",
     "output_type": "stream",
     "text": [
      "7.0 / 5.0 = \u001b[1;32m1,4\u001b[m\n"
     ]
    }
   ],
   "source": [
    "while True: \n",
    "    try:\n",
    "        number_1 = inputFloat(\"Digite um número: \")\n",
    "        number_2 = inputFloat(\"Digite outro número: \")\n",
    "\n",
    "        quociente = number_1 / number_2\n",
    "\n",
    "        break\n",
    "\n",
    "    except ZeroDivisionError as error:\n",
    "        print(colors(\"ERRO: Divisão por zero\", 'yellow'))\n",
    "        continue\n",
    "\n",
    "print(f\"{number_1} / {number_2} = {colors(quociente, 'green').replace('.', ',')}\")"
   ]
  },
  {
   "cell_type": "markdown",
   "metadata": {},
   "source": [
    "### Exercício 16\n",
    "\n",
    "> Faça um Programa que peça 2 números inteiros e um número real.\n",
    "Calcule e mostre: <br><br>a) o produto do dobro do primeiro com metade do segundo.<br><br>b) a soma do triplo do primeiro com o terceiro.<br><br>c) o terceiro elevado ao cubo."
   ]
  },
  {
   "cell_type": "code",
   "execution_count": 9,
   "metadata": {},
   "outputs": [
    {
     "name": "stdout",
     "output_type": "stream",
     "text": [
      "\u001b[1;35mA)\u001b[m R: \u001b[1;32m7.0\u001b[m\n",
      "\u001b[1;35mB)\u001b[m R: \u001b[1;32m13.0\u001b[m\n",
      "\u001b[1;35mC)\u001b[m R: \u001b[1;32m1000.0\u001b[m\n"
     ]
    }
   ],
   "source": [
    "number_1 = inputInt(\"Digite um número Inteiro: \")\n",
    "number_2 = inputInt(\"Digite outro número Inteiro: \")\n",
    "number_3 = inputFloat(\"Agora, digite um número Real: \")\n",
    "\n",
    "question_a = (number_1 * 2) * number_2 / 2\n",
    "question_b = number_1 * 3 + number_3\n",
    "question_c = number_3 ** 3\n",
    "\n",
    "print(f\"{colors('A)', 'purple')} R: {colors(question_a, 'green')}\")\n",
    "print(f\"{colors('B)', 'purple')} R: {colors(question_b, 'green')}\")\n",
    "print(f\"{colors('C)', 'purple')} R: {colors(question_c, 'green')}\")"
   ]
  },
  {
   "cell_type": "markdown",
   "metadata": {},
   "source": [
    "### Exercício 17 \n",
    "\n",
    "> João Papo-de-Pescador, homem de bem, comprou um microcomputador\n",
    "para controlar o rendimento diário de seu trabalho. Toda vez que ele traz um peso de\n",
    "peixes maior que o estabelecido pelo regulamento de pesca do estado de São Paulo\n",
    "(50 quilos) deve pagar uma multa de R$ 4,00 por quilo excedente. João precisa que\n",
    "você faça um programa que leia a variável peso (peso de peixes) e calcule o excesso.\n",
    "Gravar na variável excesso a quantidade de quilos além do limite e na variável multa o\n",
    "valor da multa que João deverá pagar. Imprima os dados do programa com as\n",
    "mensagens adequadas."
   ]
  },
  {
   "cell_type": "code",
   "execution_count": 28,
   "metadata": {},
   "outputs": [
    {
     "name": "stdout",
     "output_type": "stream",
     "text": [
      "\u001b[1;31m67.7\u001b[mkg ultrapassa, \u001b[1;33m17.700000000000003\u001b[m do peso máximo de \u001b[1;33m50\u001b[mkg, resultando em uma multa de R$ \u001b[1;31m270.8\u001b[m\n"
     ]
    }
   ],
   "source": [
    "PESO_MAX = 50\n",
    "MULTA = 4.00\n",
    "\n",
    "peso = inputFloat(\"Digite o peso: \")\n",
    "\n",
    "if peso > 50:\n",
    "\n",
    "    print(f\"{colors(peso, 'red')}kg ultrapassa, {colors(peso - PESO_MAX, 'yellow')} do peso máximo de {colors(PESO_MAX, 'yellow')}kg, resultando em uma multa de R$ {colors(peso * MULTA, 'red')}\")\n",
    "else:\n",
    "    print(f\"{colors(peso, 'green')}kg, está dentro do peso máximo, que é de {colors(PESO_MAX, 'yellow')}kg\")"
   ]
  },
  {
   "cell_type": "markdown",
   "metadata": {},
   "source": [
    "### Exercício 18\n",
    "\n",
    "> Faça um Programa que pergunte quanto você ganha por hora e o número\n",
    "de horas trabalhadas no mês. Calcule e mostre o total do seu salário no referido mês,\n",
    "sabendo-se que são descontados 11% para o Imposto de Renda, 8% para o INSS e 5%\n",
    "para o sindicato, faça um programa que nos dê: <br><br>a) salário bruto.<br><br>b) quanto pagou ao INSS.<br><br>c) quanto pagou ao sindicato.<br><br>d) o salário líquido.<br><br>e) calcule os descontos e o salário líquido."
   ]
  },
  {
   "cell_type": "code",
   "execution_count": 55,
   "metadata": {},
   "outputs": [
    {
     "name": "stdout",
     "output_type": "stream",
     "text": [
      "A) R: Salário bruto R$ 2655.00\n",
      "B) R: INSS R$ 212.40\n",
      "C) R: SINDICADO R$ 132.75\n",
      "D) R: Salário líquido R$ 2017.80\n",
      "D) R: Total em descontos R$ 637.20\n",
      "E) R: Imposto de renda R$ 292.05\n"
     ]
    }
   ],
   "source": [
    "# IMPOSTOS\n",
    "IMPOSTO_RENDA = 0.11\n",
    "INSS = 0.08\n",
    "SINDICATO = 0.05\n",
    "\n",
    "IMPOSTOS_TOTAIS = IMPOSTO_RENDA + INSS + SINDICATO\n",
    "\n",
    "dinheiro_hora = inputFloat(\"Informe quanto você ganha por hora: R$ \")\n",
    "horas_mes = inputFloat(\"Informe o número de horas trabalhadas no mês: \")\n",
    "\n",
    "# Calcula o salário bruto\n",
    "salario_bruto = dinheiro_hora * horas_mes\n",
    "\n",
    "# Calcula o salário líquido\n",
    "salario_liquido = salario_bruto - (IMPOSTOS_TOTAIS * salario_bruto)\n",
    "\n",
    "print(f\"A) R: Salário bruto R$ {salario_bruto:.2f}\")\n",
    "print(f\"B) R: INSS R$ {INSS * salario_bruto:.2f}\")\n",
    "print(f\"C) R: SINDICADO R$ {SINDICATO * salario_bruto:.2f}\")\n",
    "print(f\"D) R: Salário líquido R$ {salario_liquido:.2f}\")\n",
    "print(f\"D) R: Total em descontos R$ {(IMPOSTOS_TOTAIS * salario_bruto):.2f}\")\n",
    "print(f\"E) R: Imposto de renda R$ {(IMPOSTO_RENDA * salario_bruto):.2f}\")"
   ]
  },
  {
   "cell_type": "markdown",
   "metadata": {},
   "source": [
    "### Exercício 19\n",
    "\n",
    "> Faça um programa para uma loja de tintas. O programa deverá pedir o\n",
    "tamanho em metros quadrados da área a ser pintada. Considere que a cobertura da\n",
    "tinta é de 1 litro para cada 3 metros quadrados e que a tinta é vendida em latas de 18\n",
    "litros, que custam R$ 80,00. Informe ao usuário a quantidades de latas de tinta a serem\n",
    "compradas e o preço total."
   ]
  },
  {
   "cell_type": "code",
   "execution_count": 84,
   "metadata": {},
   "outputs": [
    {
     "name": "stdout",
     "output_type": "stream",
     "text": [
      "Área: 0.00 m²\n",
      "Total de latas de tinta: 0\n",
      "Preço a ser pago: R$ 0.00\n"
     ]
    }
   ],
   "source": [
    "# 1 litro para cada 3 metros quadrados\n",
    "COBERTURA_METRO_QUADRADO = 3\n",
    "TINTA_LITRO_VENDA = 18\n",
    "PRECO_TINTA = 80\n",
    "\n",
    "area_pintar = inputFloat(\"Informe o tamanho em metros quadrados da área a ser pintada: \")\n",
    "\n",
    "# Calcula a quantidade de tinta em litros\n",
    "litros = area_pintar / COBERTURA_METRO_QUADRADO\n",
    "\n",
    "# Calcula a quantidade de latas a partir dos litros\n",
    "qnta_latas = ceil(litros / TINTA_LITRO_VENDA)\n",
    "\n",
    "print(f\"Área: {area_pintar:.2f} m²\")\n",
    "print(f\"Total de latas de tinta: {qnta_latas}\")\n",
    "print(f\"Preço a ser pago: R$ {(qnta_latas * PRECO_TINTA):.2f}\")"
   ]
  }
 ],
 "metadata": {
  "kernelspec": {
   "display_name": "Python 3",
   "language": "python",
   "name": "python3"
  },
  "language_info": {
   "codemirror_mode": {
    "name": "ipython",
    "version": 3
   },
   "file_extension": ".py",
   "mimetype": "text/x-python",
   "name": "python",
   "nbconvert_exporter": "python",
   "pygments_lexer": "ipython3",
   "version": "3.11.0"
  }
 },
 "nbformat": 4,
 "nbformat_minor": 2
}
