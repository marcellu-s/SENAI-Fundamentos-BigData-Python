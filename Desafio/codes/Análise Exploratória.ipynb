{
 "cells": [
  {
   "cell_type": "code",
   "execution_count": 54,
   "metadata": {},
   "outputs": [],
   "source": [
    "import pandas as pd\n",
    "import matplotlib.pyplot as plt\n",
    "import seaborn as sns\n",
    "import os"
   ]
  },
  {
   "cell_type": "markdown",
   "metadata": {},
   "source": [
    "## 1. Análise Exploratória"
   ]
  },
  {
   "cell_type": "markdown",
   "metadata": {},
   "source": [
    "### Valor total vendido e Valor total da meta por ano?"
   ]
  },
  {
   "cell_type": "code",
   "execution_count": 55,
   "metadata": {},
   "outputs": [],
   "source": [
    "# Pegar todas os arquivos Vendas.xlsx\n",
    "all_filenames = os.listdir('../archives/vendas/')\n",
    "\n",
    "# Combinando todos os arquivos Vendas.xlsx em um único dataframe\n",
    "sales_dataframe = pd.concat([pd.read_excel(f'../archives/vendas/{b}') for b in all_filenames])\n",
    "\n",
    "dates_dataframe = pd.read_excel('../archives/Dimensões.xlsx', sheet_name='Data')"
   ]
  },
  {
   "cell_type": "code",
   "execution_count": 56,
   "metadata": {},
   "outputs": [],
   "source": [
    "goals_dataframe = pd.read_excel('../archives/base-meta-new.xlsx')\n",
    "\n",
    "goals_dataframe = goals_dataframe.iloc[3:,1:]"
   ]
  },
  {
   "cell_type": "code",
   "execution_count": 57,
   "metadata": {},
   "outputs": [
    {
     "data": {
      "text/html": [
       "<div>\n",
       "<style scoped>\n",
       "    .dataframe tbody tr th:only-of-type {\n",
       "        vertical-align: middle;\n",
       "    }\n",
       "\n",
       "    .dataframe tbody tr th {\n",
       "        vertical-align: top;\n",
       "    }\n",
       "\n",
       "    .dataframe thead th {\n",
       "        text-align: right;\n",
       "    }\n",
       "</style>\n",
       "<table border=\"1\" class=\"dataframe\">\n",
       "  <thead>\n",
       "    <tr style=\"text-align: right;\">\n",
       "      <th></th>\n",
       "      <th>DataEmissao</th>\n",
       "      <th>DataVencimento</th>\n",
       "      <th>NFe</th>\n",
       "      <th>cdCliente</th>\n",
       "      <th>cdVendedor</th>\n",
       "      <th>cdProduto</th>\n",
       "      <th>QtdItens</th>\n",
       "      <th>ValorUnitario</th>\n",
       "      <th>Peso Líquido</th>\n",
       "    </tr>\n",
       "  </thead>\n",
       "  <tbody>\n",
       "    <tr>\n",
       "      <th>0</th>\n",
       "      <td>2017-01-12</td>\n",
       "      <td>2017-02-22</td>\n",
       "      <td>1492762</td>\n",
       "      <td>3140218</td>\n",
       "      <td>265</td>\n",
       "      <td>1073</td>\n",
       "      <td>6</td>\n",
       "      <td>8.83</td>\n",
       "      <td>0.60</td>\n",
       "    </tr>\n",
       "    <tr>\n",
       "      <th>1</th>\n",
       "      <td>2017-01-12</td>\n",
       "      <td>2017-02-22</td>\n",
       "      <td>1492762</td>\n",
       "      <td>3140218</td>\n",
       "      <td>265</td>\n",
       "      <td>1420</td>\n",
       "      <td>6</td>\n",
       "      <td>4.44</td>\n",
       "      <td>5.40</td>\n",
       "    </tr>\n",
       "    <tr>\n",
       "      <th>2</th>\n",
       "      <td>2017-01-12</td>\n",
       "      <td>2017-02-22</td>\n",
       "      <td>1492762</td>\n",
       "      <td>3140218</td>\n",
       "      <td>265</td>\n",
       "      <td>264</td>\n",
       "      <td>10</td>\n",
       "      <td>0.96</td>\n",
       "      <td>1.92</td>\n",
       "    </tr>\n",
       "    <tr>\n",
       "      <th>3</th>\n",
       "      <td>2017-01-13</td>\n",
       "      <td>2017-01-29</td>\n",
       "      <td>1492719</td>\n",
       "      <td>2983332</td>\n",
       "      <td>265</td>\n",
       "      <td>1154</td>\n",
       "      <td>6</td>\n",
       "      <td>2.92</td>\n",
       "      <td>1.26</td>\n",
       "    </tr>\n",
       "    <tr>\n",
       "      <th>4</th>\n",
       "      <td>2017-01-13</td>\n",
       "      <td>2017-01-29</td>\n",
       "      <td>1492719</td>\n",
       "      <td>2983332</td>\n",
       "      <td>265</td>\n",
       "      <td>1527</td>\n",
       "      <td>6</td>\n",
       "      <td>2.81</td>\n",
       "      <td>1.40</td>\n",
       "    </tr>\n",
       "    <tr>\n",
       "      <th>...</th>\n",
       "      <td>...</td>\n",
       "      <td>...</td>\n",
       "      <td>...</td>\n",
       "      <td>...</td>\n",
       "      <td>...</td>\n",
       "      <td>...</td>\n",
       "      <td>...</td>\n",
       "      <td>...</td>\n",
       "      <td>...</td>\n",
       "    </tr>\n",
       "    <tr>\n",
       "      <th>14243</th>\n",
       "      <td>2022-03-12</td>\n",
       "      <td>2022-04-14</td>\n",
       "      <td>2173547</td>\n",
       "      <td>673190</td>\n",
       "      <td>265</td>\n",
       "      <td>202</td>\n",
       "      <td>24</td>\n",
       "      <td>1.62</td>\n",
       "      <td>1.50</td>\n",
       "    </tr>\n",
       "    <tr>\n",
       "      <th>14244</th>\n",
       "      <td>2022-03-12</td>\n",
       "      <td>2022-04-14</td>\n",
       "      <td>2173547</td>\n",
       "      <td>673190</td>\n",
       "      <td>265</td>\n",
       "      <td>1154</td>\n",
       "      <td>12</td>\n",
       "      <td>3.25</td>\n",
       "      <td>1.75</td>\n",
       "    </tr>\n",
       "    <tr>\n",
       "      <th>14245</th>\n",
       "      <td>2022-03-12</td>\n",
       "      <td>2022-04-14</td>\n",
       "      <td>2173547</td>\n",
       "      <td>673190</td>\n",
       "      <td>265</td>\n",
       "      <td>668</td>\n",
       "      <td>12</td>\n",
       "      <td>3.26</td>\n",
       "      <td>1.00</td>\n",
       "    </tr>\n",
       "    <tr>\n",
       "      <th>14246</th>\n",
       "      <td>2022-03-12</td>\n",
       "      <td>2022-04-14</td>\n",
       "      <td>2173547</td>\n",
       "      <td>673190</td>\n",
       "      <td>265</td>\n",
       "      <td>1527</td>\n",
       "      <td>12</td>\n",
       "      <td>3.14</td>\n",
       "      <td>1.00</td>\n",
       "    </tr>\n",
       "    <tr>\n",
       "      <th>14247</th>\n",
       "      <td>2022-03-13</td>\n",
       "      <td>2022-04-05</td>\n",
       "      <td>2172961</td>\n",
       "      <td>3771379</td>\n",
       "      <td>215</td>\n",
       "      <td>257</td>\n",
       "      <td>6</td>\n",
       "      <td>4.42</td>\n",
       "      <td>1.20</td>\n",
       "    </tr>\n",
       "  </tbody>\n",
       "</table>\n",
       "<p>302840 rows × 9 columns</p>\n",
       "</div>"
      ],
      "text/plain": [
       "      DataEmissao DataVencimento      NFe  cdCliente  cdVendedor  cdProduto  \\\n",
       "0      2017-01-12     2017-02-22  1492762    3140218         265       1073   \n",
       "1      2017-01-12     2017-02-22  1492762    3140218         265       1420   \n",
       "2      2017-01-12     2017-02-22  1492762    3140218         265        264   \n",
       "3      2017-01-13     2017-01-29  1492719    2983332         265       1154   \n",
       "4      2017-01-13     2017-01-29  1492719    2983332         265       1527   \n",
       "...           ...            ...      ...        ...         ...        ...   \n",
       "14243  2022-03-12     2022-04-14  2173547     673190         265        202   \n",
       "14244  2022-03-12     2022-04-14  2173547     673190         265       1154   \n",
       "14245  2022-03-12     2022-04-14  2173547     673190         265        668   \n",
       "14246  2022-03-12     2022-04-14  2173547     673190         265       1527   \n",
       "14247  2022-03-13     2022-04-05  2172961    3771379         215        257   \n",
       "\n",
       "       QtdItens  ValorUnitario  Peso Líquido  \n",
       "0             6           8.83          0.60  \n",
       "1             6           4.44          5.40  \n",
       "2            10           0.96          1.92  \n",
       "3             6           2.92          1.26  \n",
       "4             6           2.81          1.40  \n",
       "...         ...            ...           ...  \n",
       "14243        24           1.62          1.50  \n",
       "14244        12           3.25          1.75  \n",
       "14245        12           3.26          1.00  \n",
       "14246        12           3.14          1.00  \n",
       "14247         6           4.42          1.20  \n",
       "\n",
       "[302840 rows x 9 columns]"
      ]
     },
     "execution_count": 57,
     "metadata": {},
     "output_type": "execute_result"
    }
   ],
   "source": [
    "sales_dataframe"
   ]
  },
  {
   "cell_type": "code",
   "execution_count": 58,
   "metadata": {},
   "outputs": [],
   "source": [
    "# Unindo o dataframe de vendas com as datas e anos\n",
    "sales_date_merged_dataframe = pd.merge(\n",
    "    sales_dataframe[['DataEmissao', 'QtdItens', 'ValorUnitario', 'Peso Líquido']], \n",
    "    dates_dataframe[['Data', 'MesNum', 'Ano', 'Mes']], \n",
    "    left_on='DataEmissao', \n",
    "    right_on='Data'\n",
    ")\n",
    "\n",
    "# Atribuindo uma nova coluna - Valor Total\n",
    "sales_date_merged_dataframe['ValorTotal'] = sales_date_merged_dataframe['QtdItens'] * sales_date_merged_dataframe['ValorUnitario']\n",
    "\n",
    "# Dataframe contendo o total de vendas por ano\n",
    "sales_per_year_dataframe = sales_date_merged_dataframe[['MesNum', 'Ano', 'ValorTotal', 'QtdItens', 'Peso Líquido']].groupby(by='Ano').agg('sum').reset_index()"
   ]
  },
  {
   "cell_type": "code",
   "execution_count": 59,
   "metadata": {},
   "outputs": [],
   "source": [
    "goals_dataframe.columns = [\n",
    "    'cdVendedor',\n",
    "    'Data',\n",
    "    'Meta'\n",
    "]\n",
    "\n",
    "goals_dataframe['Data'] = goals_dataframe['Data'].astype('datetime64[ns]')\n",
    "\n",
    "sales_dates_and_targets = pd.merge(\n",
    "    sales_date_merged_dataframe,\n",
    "    goals_dataframe,\n",
    "    left_on='DataEmissao',\n",
    "    right_on='Data'\n",
    ")\n",
    "\n",
    "sales_per_year_and_targets_dataframe = sales_dates_and_targets[['Ano', 'ValorTotal', 'Meta']].groupby(by='Ano').sum().reset_index()"
   ]
  },
  {
   "cell_type": "code",
   "execution_count": 60,
   "metadata": {},
   "outputs": [
    {
     "data": {
      "text/html": [
       "<div>\n",
       "<style scoped>\n",
       "    .dataframe tbody tr th:only-of-type {\n",
       "        vertical-align: middle;\n",
       "    }\n",
       "\n",
       "    .dataframe tbody tr th {\n",
       "        vertical-align: top;\n",
       "    }\n",
       "\n",
       "    .dataframe thead th {\n",
       "        text-align: right;\n",
       "    }\n",
       "</style>\n",
       "<table border=\"1\" class=\"dataframe\">\n",
       "  <thead>\n",
       "    <tr style=\"text-align: right;\">\n",
       "      <th></th>\n",
       "      <th>Ano</th>\n",
       "      <th>ValorTotal</th>\n",
       "      <th>Meta</th>\n",
       "    </tr>\n",
       "  </thead>\n",
       "  <tbody>\n",
       "    <tr>\n",
       "      <th>0</th>\n",
       "      <td>2017</td>\n",
       "      <td>2200840.62</td>\n",
       "      <td>2900051901.253603</td>\n",
       "    </tr>\n",
       "    <tr>\n",
       "      <th>1</th>\n",
       "      <td>2018</td>\n",
       "      <td>3320970.51</td>\n",
       "      <td>4988886141.973967</td>\n",
       "    </tr>\n",
       "    <tr>\n",
       "      <th>2</th>\n",
       "      <td>2019</td>\n",
       "      <td>403931.99</td>\n",
       "      <td>651002813</td>\n",
       "    </tr>\n",
       "  </tbody>\n",
       "</table>\n",
       "</div>"
      ],
      "text/plain": [
       "    Ano  ValorTotal               Meta\n",
       "0  2017  2200840.62  2900051901.253603\n",
       "1  2018  3320970.51  4988886141.973967\n",
       "2  2019   403931.99          651002813"
      ]
     },
     "execution_count": 60,
     "metadata": {},
     "output_type": "execute_result"
    }
   ],
   "source": [
    "sales_per_year_and_targets_dataframe"
   ]
  },
  {
   "cell_type": "markdown",
   "metadata": {},
   "source": [
    "### Crie um gráfico de linhas para exibir o comportamento das vendas ao longo do ano de 2021."
   ]
  },
  {
   "cell_type": "code",
   "execution_count": 61,
   "metadata": {},
   "outputs": [],
   "source": [
    "sales_in_2019_dataframe = sales_date_merged_dataframe[sales_date_merged_dataframe['Ano'] == 2018]\n",
    "\n",
    "sales_in_2019_dataframe = sales_in_2019_dataframe[['MesNum', 'Mes', 'ValorTotal']].groupby(by=['Mes', 'MesNum']).sum().sort_values(by='MesNum').reset_index()"
   ]
  },
  {
   "cell_type": "code",
   "execution_count": 62,
   "metadata": {},
   "outputs": [
    {
     "data": {
      "image/png": "[encoded data removed]",
      "text/plain": [
       "<Figure size 640x480 with 1 Axes>"
      ]
     },
     "metadata": {},
     "output_type": "display_data"
    }
   ],
   "source": [
    "sns.lineplot(data=sales_in_2019_dataframe , x=\"Mes\", y=\"ValorTotal\")\n",
    "\n",
    "plt.xticks(sales_in_2019_dataframe['Mes'])\n",
    "\n",
    "plt.xticks(rotation=30)\n",
    "\n",
    "plt.show()"
   ]
  },
  {
   "cell_type": "markdown",
   "metadata": {},
   "source": [
    "### Quantos clientes ativos e inativos temos em nossa empresa?"
   ]
  },
  {
   "cell_type": "code",
   "execution_count": 63,
   "metadata": {},
   "outputs": [],
   "source": [
    "# Carregando o dataframe de clientes\n",
    "customer_dataframe = pd.read_excel('../archives/Dimensões.xlsx', sheet_name='Cliente')"
   ]
  },
  {
   "cell_type": "code",
   "execution_count": 64,
   "metadata": {},
   "outputs": [
    {
     "name": "stdout",
     "output_type": "stream",
     "text": [
      "-> Total de clientes ativos: 1364\n",
      "-> Total de clientes inativos: 47\n"
     ]
    }
   ],
   "source": [
    "# Separando a quantidade de clientes ativos e inativos\n",
    "actives, inactives = customer_dataframe['Status'].value_counts()\n",
    "\n",
    "print(f\"-> Total de clientes ativos: {actives}\")\n",
    "print(f\"-> Total de clientes inativos: {inactives}\")"
   ]
  },
  {
   "cell_type": "markdown",
   "metadata": {},
   "source": [
    "### Qual a linha de produtos mais vendida?"
   ]
  },
  {
   "cell_type": "code",
   "execution_count": 65,
   "metadata": {},
   "outputs": [],
   "source": [
    "product_dataframe = pd.read_excel('../archives/Dimensões.xlsx', 'Produto')\n",
    "group_product_dataframe = pd.read_excel('../archives/Dimensões.xlsx', 'GrupoProduto')"
   ]
  },
  {
   "cell_type": "code",
   "execution_count": 66,
   "metadata": {},
   "outputs": [],
   "source": [
    "products_lines = pd.merge(\n",
    "    product_dataframe,\n",
    "    group_product_dataframe,\n",
    "    left_on='cdGrupo',\n",
    "    right_on='cdGrupo'\n",
    ")\n",
    "\n",
    "sales_with_products_lines_merged = pd.merge(\n",
    "    products_lines,\n",
    "    sales_dataframe[['cdProduto', 'QtdItens', 'ValorUnitario']],\n",
    "    left_on='cdProduto',\n",
    "    right_on='cdProduto'\n",
    ")"
   ]
  },
  {
   "cell_type": "code",
   "execution_count": 67,
   "metadata": {},
   "outputs": [],
   "source": [
    "sales_with_products_lines = sales_with_products_lines_merged[['Linha', 'QtdItens']].groupby(by='Linha').sum().reset_index()"
   ]
  },
  {
   "cell_type": "code",
   "execution_count": 68,
   "metadata": {},
   "outputs": [],
   "source": [
    "sales_with_products_lines['TotalVendido'] = sales_with_products_lines['QtdItens'] * sales_with_products_lines_merged['ValorUnitario']"
   ]
  },
  {
   "cell_type": "code",
   "execution_count": 69,
   "metadata": {},
   "outputs": [
    {
     "data": {
      "text/html": [
       "<div>\n",
       "<style scoped>\n",
       "    .dataframe tbody tr th:only-of-type {\n",
       "        vertical-align: middle;\n",
       "    }\n",
       "\n",
       "    .dataframe tbody tr th {\n",
       "        vertical-align: top;\n",
       "    }\n",
       "\n",
       "    .dataframe thead th {\n",
       "        text-align: right;\n",
       "    }\n",
       "</style>\n",
       "<table border=\"1\" class=\"dataframe\">\n",
       "  <thead>\n",
       "    <tr style=\"text-align: right;\">\n",
       "      <th></th>\n",
       "      <th>Linha</th>\n",
       "      <th>QtdItens</th>\n",
       "      <th>TotalVendido</th>\n",
       "    </tr>\n",
       "  </thead>\n",
       "  <tbody>\n",
       "    <tr>\n",
       "      <th>0</th>\n",
       "      <td>Alimentos</td>\n",
       "      <td>7265872</td>\n",
       "      <td>56528484.16</td>\n",
       "    </tr>\n",
       "    <tr>\n",
       "      <th>1</th>\n",
       "      <td>Bebidas</td>\n",
       "      <td>162267</td>\n",
       "      <td>1270550.61</td>\n",
       "    </tr>\n",
       "  </tbody>\n",
       "</table>\n",
       "</div>"
      ],
      "text/plain": [
       "       Linha  QtdItens  TotalVendido\n",
       "0  Alimentos   7265872   56528484.16\n",
       "1    Bebidas    162267    1270550.61"
      ]
     },
     "execution_count": 69,
     "metadata": {},
     "output_type": "execute_result"
    }
   ],
   "source": [
    "sales_with_products_lines"
   ]
  },
  {
   "cell_type": "markdown",
   "metadata": {},
   "source": [
    "### Qual foi a quantidade total de produtos vendidos por ano?"
   ]
  },
  {
   "cell_type": "code",
   "execution_count": 70,
   "metadata": {},
   "outputs": [
    {
     "data": {
      "text/html": [
       "<div>\n",
       "<style scoped>\n",
       "    .dataframe tbody tr th:only-of-type {\n",
       "        vertical-align: middle;\n",
       "    }\n",
       "\n",
       "    .dataframe tbody tr th {\n",
       "        vertical-align: top;\n",
       "    }\n",
       "\n",
       "    .dataframe thead th {\n",
       "        text-align: right;\n",
       "    }\n",
       "</style>\n",
       "<table border=\"1\" class=\"dataframe\">\n",
       "  <thead>\n",
       "    <tr style=\"text-align: right;\">\n",
       "      <th></th>\n",
       "      <th>Ano</th>\n",
       "      <th>QtdItens</th>\n",
       "    </tr>\n",
       "  </thead>\n",
       "  <tbody>\n",
       "    <tr>\n",
       "      <th>0</th>\n",
       "      <td>2017</td>\n",
       "      <td>2167345</td>\n",
       "    </tr>\n",
       "    <tr>\n",
       "      <th>1</th>\n",
       "      <td>2018</td>\n",
       "      <td>3864838</td>\n",
       "    </tr>\n",
       "    <tr>\n",
       "      <th>2</th>\n",
       "      <td>2019</td>\n",
       "      <td>348989</td>\n",
       "    </tr>\n",
       "  </tbody>\n",
       "</table>\n",
       "</div>"
      ],
      "text/plain": [
       "    Ano  QtdItens\n",
       "0  2017   2167345\n",
       "1  2018   3864838\n",
       "2  2019    348989"
      ]
     },
     "execution_count": 70,
     "metadata": {},
     "output_type": "execute_result"
    }
   ],
   "source": [
    "number_products_sold_per_year = sales_per_year_dataframe.drop(columns=['MesNum', 'ValorTotal', 'Peso Líquido'])\n",
    "\n",
    "number_products_sold_per_year"
   ]
  },
  {
   "cell_type": "markdown",
   "metadata": {},
   "source": [
    "### Qual foi o total de peso em toneladas dos produtos vendidos em todo o período?"
   ]
  },
  {
   "cell_type": "code",
   "execution_count": 71,
   "metadata": {},
   "outputs": [
    {
     "data": {
      "text/html": [
       "<div>\n",
       "<style scoped>\n",
       "    .dataframe tbody tr th:only-of-type {\n",
       "        vertical-align: middle;\n",
       "    }\n",
       "\n",
       "    .dataframe tbody tr th {\n",
       "        vertical-align: top;\n",
       "    }\n",
       "\n",
       "    .dataframe thead th {\n",
       "        text-align: right;\n",
       "    }\n",
       "</style>\n",
       "<table border=\"1\" class=\"dataframe\">\n",
       "  <thead>\n",
       "    <tr style=\"text-align: right;\">\n",
       "      <th></th>\n",
       "      <th>Ano</th>\n",
       "      <th>MesNum</th>\n",
       "      <th>ValorTotal</th>\n",
       "      <th>QtdItens</th>\n",
       "      <th>Peso Líquido</th>\n",
       "    </tr>\n",
       "  </thead>\n",
       "  <tbody>\n",
       "    <tr>\n",
       "      <th>0</th>\n",
       "      <td>2017</td>\n",
       "      <td>718818</td>\n",
       "      <td>6648222.05</td>\n",
       "      <td>2167345</td>\n",
       "      <td>414819.40</td>\n",
       "    </tr>\n",
       "    <tr>\n",
       "      <th>1</th>\n",
       "      <td>2018</td>\n",
       "      <td>1143833</td>\n",
       "      <td>10214809.43</td>\n",
       "      <td>3864838</td>\n",
       "      <td>658505.01</td>\n",
       "    </tr>\n",
       "    <tr>\n",
       "      <th>2</th>\n",
       "      <td>2019</td>\n",
       "      <td>19402</td>\n",
       "      <td>1046201.01</td>\n",
       "      <td>348989</td>\n",
       "      <td>61465.62</td>\n",
       "    </tr>\n",
       "  </tbody>\n",
       "</table>\n",
       "</div>"
      ],
      "text/plain": [
       "    Ano   MesNum   ValorTotal  QtdItens  Peso Líquido\n",
       "0  2017   718818   6648222.05   2167345     414819.40\n",
       "1  2018  1143833  10214809.43   3864838     658505.01\n",
       "2  2019    19402   1046201.01    348989      61465.62"
      ]
     },
     "execution_count": 71,
     "metadata": {},
     "output_type": "execute_result"
    }
   ],
   "source": [
    "sales_per_year_dataframe"
   ]
  },
  {
   "cell_type": "code",
   "execution_count": 72,
   "metadata": {},
   "outputs": [
    {
     "name": "stdout",
     "output_type": "stream",
     "text": [
      "Peso total, em todo o período: 1,134,790t\n"
     ]
    }
   ],
   "source": [
    "total_weight = sales_per_year_dataframe['Peso Líquido'].sum()\n",
    "\n",
    "print(f\"Peso total, em todo o período: {total_weight:,.0f}t\")"
   ]
  }
 ],
 "metadata": {
  "kernelspec": {
   "display_name": "Python 3",
   "language": "python",
   "name": "python3"
  },
  "language_info": {
   "codemirror_mode": {
    "name": "ipython",
    "version": 3
   },
   "file_extension": ".py",
   "mimetype": "text/x-python",
   "name": "python",
   "nbconvert_exporter": "python",
   "pygments_lexer": "ipython3",
   "version": "3.11.0"
  }
 },
 "nbformat": 4,
 "nbformat_minor": 2
}
