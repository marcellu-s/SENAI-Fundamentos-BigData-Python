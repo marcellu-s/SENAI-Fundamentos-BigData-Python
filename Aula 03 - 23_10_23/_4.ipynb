{
 "cells": [
  {
   "cell_type": "code",
   "execution_count": 2,
   "metadata": {},
   "outputs": [],
   "source": [
    "from modules import *\n",
    "from statistics import mean"
   ]
  },
  {
   "cell_type": "markdown",
   "metadata": {},
   "source": [
    "### Exercício 04\n",
    "\n",
    "> Crie uma variável chamada \"idade\" e atribua um valor inteiro a ela.\n",
    "Verifique se a idade está dentro do intervalo de 18 a 30 (inclusive) e imprima a\n",
    "mensagem \"Idade válida\" ou \"Idade inválida\" de acordo com a condição."
   ]
  },
  {
   "cell_type": "code",
   "execution_count": 5,
   "metadata": {},
   "outputs": [
    {
     "name": "stdout",
     "output_type": "stream",
     "text": [
      "Idade válida\n"
     ]
    }
   ],
   "source": [
    "age = inputInt('Informe uma idade: ')\n",
    "\n",
    "if 18 <= age <= 30:\n",
    "\n",
    "    print('Idade válida')\n",
    "\n",
    "else:\n",
    "\n",
    "    print('Idade inválida')"
   ]
  },
  {
   "cell_type": "markdown",
   "metadata": {},
   "source": [
    "### Exercício 05\n",
    "\n",
    "> Crie uma variável chamada \"numero\" e atribua um valor inteiro a ela.\n",
    "Verifique se o número é par ou ímpar e imprima a mensagem correspondente."
   ]
  },
  {
   "cell_type": "code",
   "execution_count": 7,
   "metadata": {},
   "outputs": [
    {
     "name": "stdout",
     "output_type": "stream",
     "text": [
      "4 é par\n"
     ]
    }
   ],
   "source": [
    "num = inputInt('Digite um número inteiro: ')\n",
    "\n",
    "print(f\"{num} é par\" if num % 2 == 0 else f\"{num} é ímpar\")"
   ]
  },
  {
   "cell_type": "markdown",
   "metadata": {},
   "source": [
    "### Exercício 06\n",
    "\n",
    "> Crie uma variável chamada \"horario\" e atribua um valor inteiro\n",
    "representando a hora do dia (em formato 24 horas). Verifique se o horário está dentro\n",
    "do período da manhã (das 6h às 12h), da tarde (das 12h às 18h) ou da noite (das 18h\n",
    "às 23h) e imprima a mensagem correspondente."
   ]
  },
  {
   "cell_type": "code",
   "execution_count": 18,
   "metadata": {},
   "outputs": [
    {
     "name": "stdout",
     "output_type": "stream",
     "text": [
      "5h é de madrugada\n"
     ]
    }
   ],
   "source": [
    "hour = inputInt('Informe um valor inteiro, que representa a hora do dia (em formato 24 horas): ')\n",
    "\n",
    "if hour < 0:\n",
    "\n",
    "    print(f'{hour}, não é um valor válido')\n",
    "\n",
    "else:\n",
    "\n",
    "    if 6 <= hour < 12:\n",
    "\n",
    "        print(f\"{hour}h é de manhã\")\n",
    "\n",
    "    elif 12 <= hour < 18:\n",
    "\n",
    "        print(f\"{hour}h é de tarde\")\n",
    "\n",
    "    elif 18 <= hour <= 23:\n",
    "\n",
    "        print(f\"{hour}h é de noite\")\n",
    "\n",
    "    else:\n",
    "\n",
    "        print(f\"{hour}h é de madrugada\")"
   ]
  },
  {
   "cell_type": "markdown",
   "metadata": {},
   "source": [
    "### Exercício 07 \n",
    "\n",
    "> Crie uma variável chamada \"peso\" e atribua um valor numérico a ela.\n",
    "Verifique se o peso está dentro do intervalo de 50 a 100 (inclusive) e imprima a\n",
    "mensagem \"Peso válido\" ou \"Peso inválido\" de acordo com a condição."
   ]
  },
  {
   "cell_type": "code",
   "execution_count": 23,
   "metadata": {},
   "outputs": [
    {
     "name": "stdout",
     "output_type": "stream",
     "text": [
      "Peso inválido\n"
     ]
    }
   ],
   "source": [
    "peso = inputFloat('Informe seu peso, em kg: ')\n",
    "\n",
    "if 50 <= peso <= 100:\n",
    "\n",
    "    print('Peso válido')\n",
    "\n",
    "else:\n",
    "\n",
    "    print('Peso inválido')"
   ]
  },
  {
   "cell_type": "markdown",
   "metadata": {},
   "source": [
    "### Exercício 08\n",
    "\n",
    "> Crie uma variável chamada \"numero\" e atribua um valor inteiro a ela.\n",
    "Verifique se o número é múltiplo de 3 e de 5 ao mesmo tempo e imprima a mensagem\n",
    "correspondente."
   ]
  },
  {
   "cell_type": "code",
   "execution_count": 62,
   "metadata": {},
   "outputs": [
    {
     "name": "stdout",
     "output_type": "stream",
     "text": [
      "0\n",
      "0\n",
      "90 é múltiplo de 3 e 5 ao mesmo tempo!\n"
     ]
    }
   ],
   "source": [
    "num = inputInt('Informe um valor inteiro: ')\n",
    "\n",
    "if num % 3 == 0 and num % 5 == 0:\n",
    "\n",
    "    print(f\"{num} é múltiplo de 3 e 5 ao mesmo tempo!\")\n",
    "\n",
    "else:\n",
    "\n",
    "    print(f\"{num} é não é múltiplo de 3 e 5 ao mesmo tempo!\")"
   ]
  },
  {
   "cell_type": "markdown",
   "metadata": {},
   "source": [
    "### Exercício 09\n",
    "\n",
    "> Crie uma variável chamada \"ano\" e atribua um valor inteiro\n",
    "representando um ano. Verifique se o ano é bissexto (divisível por 4, mas não por 100,\n",
    "exceto se for divisível por 400) e imprima a mensagem correspondente."
   ]
  },
  {
   "cell_type": "code",
   "execution_count": 20,
   "metadata": {},
   "outputs": [
    {
     "name": "stdout",
     "output_type": "stream",
     "text": [
      "2000 é Bissexto\n"
     ]
    }
   ],
   "source": [
    "year = inputInt('Informe um ano: ')\n",
    "\n",
    "isBissexto = False\n",
    "\n",
    "if year % 400 == 0 or year % 4 == 0 and year % 100 != 0: \n",
    "\n",
    "    isBissexto = True\n",
    "\n",
    "print(f\"{year} é Bissexto\" if isBissexto else f\"{year} não é Bissexto\")"
   ]
  },
  {
   "cell_type": "markdown",
   "metadata": {},
   "source": [
    "### Exercício 10\n",
    "\n",
    "> Crie uma variável chamada \"salario\" e atribua um valor numérico a ela.\n",
    "Verifique se o salário é maior do que 1000 e menor do que 2000 ao mesmo tempo e\n",
    "imprima a mensagem correspondente."
   ]
  },
  {
   "cell_type": "code",
   "execution_count": 82,
   "metadata": {},
   "outputs": [
    {
     "name": "stdout",
     "output_type": "stream",
     "text": [
      "R$ 2000.00 não é maior do que 1000 e menor do que 2000 ao mesmo tempo\n"
     ]
    }
   ],
   "source": [
    "salary = inputFloat('Informe seu salário: R$ ')\n",
    "\n",
    "if 1000 < salary < 2000:\n",
    "\n",
    "    print(f\"R$ {salary:.2f} é maior do que 1000 e menor do que 2000 ao mesmo tempo\")\n",
    "\n",
    "else:\n",
    "\n",
    "    print(f\"R$ {salary:.2f} não é maior do que 1000 e menor do que 2000 ao mesmo tempo\")"
   ]
  },
  {
   "cell_type": "markdown",
   "metadata": {},
   "source": [
    "### Exercício 11\n",
    "\n",
    "> Faça um Programa que peça dois números e imprima o maior deles."
   ]
  },
  {
   "cell_type": "code",
   "execution_count": 89,
   "metadata": {},
   "outputs": [
    {
     "name": "stdout",
     "output_type": "stream",
     "text": [
      "5.0 é maior que 4.0\n"
     ]
    }
   ],
   "source": [
    "num1 = inputFloat('Digite um número: ')\n",
    "num2 = inputFloat('Digite outro número: ')\n",
    "\n",
    "print(f\"{num1} é maior que {num2}\" if num1 > num2 else f\"{num2} é maior que {num1}\" if num2 > num1 else f\"os números são iguais\")"
   ]
  },
  {
   "cell_type": "markdown",
   "metadata": {},
   "source": [
    "### Exercício 12\n",
    "\n",
    "> Faça um Programa que peça um valor e mostre na tela se o valor é\n",
    "positivo ou negativo."
   ]
  },
  {
   "cell_type": "code",
   "execution_count": 92,
   "metadata": {},
   "outputs": [
    {
     "name": "stdout",
     "output_type": "stream",
     "text": [
      "0 é neutro\n"
     ]
    }
   ],
   "source": [
    "value = inputInt(\"Digite um número: \")\n",
    "\n",
    "print(f\"{value} é positivo\" if value > 0 else f\"{value} é negativo\" if value < 0 else f\"{value} é neutro\")"
   ]
  },
  {
   "cell_type": "markdown",
   "metadata": {},
   "source": [
    "### Exercício 13\n",
    "\n",
    "> Faça um Programa que verifique se uma letra digitada é \"F\" ou \"M\".\n",
    "Conforme a letra escrever: F - Feminino, M - Masculino, Sexo Inválido."
   ]
  },
  {
   "cell_type": "code",
   "execution_count": 95,
   "metadata": {},
   "outputs": [
    {
     "name": "stdout",
     "output_type": "stream",
     "text": [
      "Sexo inválido\n"
     ]
    }
   ],
   "source": [
    "letter = input('Informe seu sexo, (F - Feminino | M - Masculino)').lower()\n",
    "\n",
    "print(f\"F - Feminino\" if letter == 'f' else f\"M - Masculino\" if letter == 'm' else f\"Sexo inválido\")"
   ]
  },
  {
   "cell_type": "markdown",
   "metadata": {},
   "source": [
    "### Exercício 14\n",
    "\n",
    "> Faça um Programa que verifique se uma letra digitada é vogal ou\n",
    "consoante."
   ]
  },
  {
   "cell_type": "code",
   "execution_count": 103,
   "metadata": {},
   "outputs": [
    {
     "name": "stdout",
     "output_type": "stream",
     "text": [
      "Z é uma consoante\n"
     ]
    }
   ],
   "source": [
    "vogais = 'aeiou'\n",
    "\n",
    "letter = input(\"Digite um letra: \").lower()\n",
    "\n",
    "print(f\"{letter.upper()} é uma vogal\" if letter in vogais else f\"{letter.upper()} é uma consoante\")"
   ]
  },
  {
   "cell_type": "markdown",
   "metadata": {},
   "source": [
    "### Exercício 15\n",
    "\n",
    "> Faça um programa para a leitura de duas notas parciais de um aluno. O\n",
    "programa deve calcular a média alcançada por aluno e apresentar:<br><br>\n",
    "• A mensagem \"Aprovado\", se a média alcançada for maior ou igual a sete;<br><br>\n",
    "• A mensagem \"Reprovado\", se a média for menor do que sete;<br><br>\n",
    "• A mensagem \"Aprovado com Distinção\", se a média for igual a dez."
   ]
  },
  {
   "cell_type": "code",
   "execution_count": 110,
   "metadata": {},
   "outputs": [
    {
     "name": "stdout",
     "output_type": "stream",
     "text": [
      "Informe um valor válido\n",
      "Média 6.0 - \u001b[1;31mReprovado\u001b[m\n"
     ]
    }
   ],
   "source": [
    "\n",
    "while True:\n",
    "\n",
    "    nota1 = inputFloat('Informe a primeira nota: ')\n",
    "    nota2 = inputFloat('Informe a segunda nota: ')\n",
    "\n",
    "    if 0 <= nota1 <= 10 and 0 <= nota2 <= 10:\n",
    "        break\n",
    "    \n",
    "    print('Informe um valor válido')\n",
    "    continue\n",
    "\n",
    "média = (nota1 + nota2) / 2\n",
    "\n",
    "if média == 10:\n",
    "\n",
    "    print(f\"Média {média:.1f} - {colors('Aprovado com Distinção', 'green')}\")\n",
    "\n",
    "elif média >= 7:\n",
    "\n",
    "    print(f\"Média {média:.1f} - {colors('Aprovado', 'green')}\")\n",
    "\n",
    "else:\n",
    "\n",
    "    print(f\"Média {média:.1f} - {colors('Reprovado', 'red')}\")"
   ]
  },
  {
   "cell_type": "markdown",
   "metadata": {},
   "source": [
    "### Exercício 16\n",
    "\n",
    "> Faça um Programa que leia três números e mostre o maior deles."
   ]
  },
  {
   "cell_type": "code",
   "execution_count": 114,
   "metadata": {},
   "outputs": [
    {
     "name": "stdout",
     "output_type": "stream",
     "text": [
      "45.0 é o maior número digitado!\n"
     ]
    }
   ],
   "source": [
    "values = []\n",
    "\n",
    "while len(values) < 3:\n",
    "\n",
    "    values.append(inputFloat(f'Informe o {len(values)+1}º número: '))\n",
    "\n",
    "print(f\"{max(values)} é o maior número digitado!\")\n"
   ]
  },
  {
   "cell_type": "markdown",
   "metadata": {},
   "source": [
    "### Exercício 17\n",
    "\n",
    "> Faça um Programa que leia três números e mostre o maior e o menor\n",
    "deles."
   ]
  },
  {
   "cell_type": "code",
   "execution_count": 115,
   "metadata": {},
   "outputs": [
    {
     "name": "stdout",
     "output_type": "stream",
     "text": [
      "8.0 é o maior número digitado! E 4.0 é o menor!\n"
     ]
    }
   ],
   "source": [
    "values = []\n",
    "\n",
    "while len(values) < 3:\n",
    "\n",
    "    values.append(inputFloat(f'Informe o {len(values)+1}º número: '))\n",
    "\n",
    "print(f\"{max(values)} é o maior número digitado! E {min(values)} é o menor!\")"
   ]
  },
  {
   "cell_type": "markdown",
   "metadata": {},
   "source": [
    "### Exercício 18\n",
    "\n",
    "> Faça um programa que pergunte o preço de três produtos e informe qual\n",
    "produto você deve comprar, sabendo que a decisão é sempre pelo mais barato."
   ]
  },
  {
   "cell_type": "code",
   "execution_count": 119,
   "metadata": {},
   "outputs": [
    {
     "name": "stdout",
     "output_type": "stream",
     "text": [
      "Produto: 2 de R$ 14.0 é o melhor preço!\n"
     ]
    }
   ],
   "source": [
    "productsPrice = []\n",
    "\n",
    "while len(productsPrice) < 3:\n",
    "\n",
    "    productsPrice.append(inputFloat(f'Informe o preço do {len(productsPrice)+1}º produto: R$ '))\n",
    "\n",
    "print(f\"Produto: {productsPrice.index(min(productsPrice))+1} de R$ {min(productsPrice)} é o melhor preço!\")"
   ]
  },
  {
   "cell_type": "markdown",
   "metadata": {},
   "source": [
    "### Exercícios 19 \n",
    "\n",
    "> Faça um Programa que leia três números e mostre-os em ordem\n",
    "decrescente."
   ]
  },
  {
   "cell_type": "code",
   "execution_count": 5,
   "metadata": {},
   "outputs": [
    {
     "name": "stdout",
     "output_type": "stream",
     "text": [
      "[4.0, 5.0, 6.0] em ordem decrescente: [6.0, 5.0, 4.0]\n"
     ]
    }
   ],
   "source": [
    "values = []\n",
    "\n",
    "while len(values) < 3:\n",
    "\n",
    "    values.append(inputFloat(f'Informe o {len(values)+1}º número: '))\n",
    "\n",
    "valuesReverse = values[:]\n",
    "\n",
    "valuesReverse.sort(reverse=True)\n",
    "\n",
    "print(f\"{values} em ordem decrescente: {valuesReverse}\")"
   ]
  },
  {
   "cell_type": "markdown",
   "metadata": {},
   "source": [
    "### Exercício 20\n",
    "\n",
    "> Faça um Programa que pergunte em que turno você estuda. Peça para\n",
    "digitar M-matutino ou V-Vespertino ou N- Noturno. Imprima a mensagem \"Bom Dia!\",\n",
    "\"Boa Tarde!\" ou \"Boa Noite!\" ou \"Valor Inválido!\", conforme o caso."
   ]
  },
  {
   "cell_type": "code",
   "execution_count": 9,
   "metadata": {},
   "outputs": [
    {
     "name": "stdout",
     "output_type": "stream",
     "text": [
      "Boa noite!\n"
     ]
    }
   ],
   "source": [
    "turno = input('Em que turno você estuda? (M-matutino ou V-Vespertino ou N- Noturno): ').lower()\n",
    "\n",
    "print(\"Bom dia!\" if turno == 'm' else \"Boa tarde!\" if turno == 'v' else \"Boa noite!\" if turno == 'n' else 'Valor inválido!')"
   ]
  },
  {
   "cell_type": "markdown",
   "metadata": {},
   "source": [
    "### Exercício 21\n",
    "\n",
    "> As Organizações Tabajara resolveram dar um aumento de salário aos\n",
    "seus colaboradores e lhe contaram para desenvolver o programa que calculará os\n",
    "reajustes. Faça um programa que recebe o salário de um colaborador e o reajuste\n",
    "segundo o seguinte critério, baseado no salário atual:<br><br>\n",
    "• salários até R$ 280,00 (incluindo) : aumento de 20%<br><br>\n",
    "• salários entre R$ 280,00 e R$ 700,00 : aumento de 15%<br><br>\n",
    "• salários entre R$ 700,00 e R$ 1500,00 : aumento de 10%<br><br>\n",
    "• salários de R$ 1500,00 em diante : aumento de 5%<br><br>\n",
    "Após o aumento ser realizado, informe na tela:<br><br>\n",
    "• salário antes do reajuste;<br><br>\n",
    "• percentual de aumento aplicado;<br><br>\n",
    "• valor do aumento;<br><br>\n",
    "• novo salário, após o aumento."
   ]
  },
  {
   "cell_type": "code",
   "execution_count": 12,
   "metadata": {},
   "outputs": [
    {
     "name": "stdout",
     "output_type": "stream",
     "text": [
      "Salário antes do reajuste: R$ 580.00\n",
      "Percentual de aumento aplicado: 15%\n",
      "Valor de aumento: R$ 87.0\n",
      "Novo salário, após o aumento: R$ 667.0\n"
     ]
    }
   ],
   "source": [
    "salary = inputFloat('Informe o salário: R$ ')\n",
    "\n",
    "up = 0\n",
    "\n",
    "if salary <= 280:\n",
    "\n",
    "    up = 20\n",
    "\n",
    "elif 280 < salary < 700:\n",
    "\n",
    "    up = 15\n",
    "\n",
    "elif 700 <= salary < 1500:\n",
    "\n",
    "    up = 10\n",
    "\n",
    "elif salary >= 1500:\n",
    "\n",
    "    up = 5\n",
    "\n",
    "valueIncrease = salary * (up / 100) \n",
    "salaryAfterIncrease = salary + valueIncrease\n",
    "\n",
    "print(f\"Salário antes do reajuste: R$ {salary:.2f}\")\n",
    "print(f\"Percentual de aumento aplicado: {up}%\")\n",
    "print(f\"Valor de aumento: R$ {valueIncrease:.2f}\")\n",
    "print(f\"Novo salário, após o aumento: R$ {salaryAfterIncrease:.2f}\")"
   ]
  },
  {
   "cell_type": "markdown",
   "metadata": {},
   "source": [
    "### Exercício 22\n",
    "\n",
    "> Faça um programa para o cálculo de uma folha de pagamento, sabendo\n",
    "que os descontos são do Imposto de Renda, que depende do salário bruto (conforme\n",
    "tabela abaixo) e 3% para o Sindicato e que o FGTS corresponde a 11% do Salário Bruto,\n",
    "mas não é descontado (é a empresa que deposita). O Salário Líquido corresponde ao\n",
    "Salário Bruto menos os descontos. O programa deverá pedir ao usuário o valor da sua\n",
    "hora e a quantidade de horas trabalhadas no mês.\n",
    "Desconto do IR:<br><br>\n",
    "• Salário Bruto até 900 (inclusive) – isento<br><br>\n",
    "• Salário Bruto até 1500 (inclusive) - desconto de 5%<br><br>\n",
    "• Salário Bruto até 2500 (inclusive) - desconto de 10%<br><br>\n",
    "• Salário Bruto acima de 2500 - desconto de 20%<br><br>\n",
    "Imprima na tela as informações, dispostas conforme o exemplo abaixo. No exemplo o\n",
    "valor da hora é 5 e a quantidade de hora é 220."
   ]
  },
  {
   "cell_type": "code",
   "execution_count": 25,
   "metadata": {},
   "outputs": [
    {
     "name": "stdout",
     "output_type": "stream",
     "text": [
      "-> Salário bruto: R$ 1100.00\n",
      "-> Valor do FGTS: R$ 121.00\n",
      "-> Total em descontos: R$ 88.00\n",
      "-> Salário líquido: R$ 1012.00\n"
     ]
    }
   ],
   "source": [
    "valuePerHour = inputFloat(\"Informe quando você ganha hora: R$ \")\n",
    "qntaHoursMonth = inputFloat(\"Informe quantas horas você trabalhou no mês: \")\n",
    "\n",
    "grossSalary = valuePerHour * qntaHoursMonth\n",
    "\n",
    "impostoRenda = 0\n",
    "sindicato = 0.03\n",
    "fgts = grossSalary * 0.11\n",
    "salarioLiquido = 0\n",
    "\n",
    "if 900 < grossSalary <= 1500:\n",
    "\n",
    "    impostoRenda = 0.05\n",
    "\n",
    "elif 1500 < grossSalary <= 2500:\n",
    "\n",
    "    impostoRenda = 0.10\n",
    "\n",
    "elif grossSalary > 2500:\n",
    "\n",
    "    impostoRenda = 0.20\n",
    "\n",
    "totalDiscounts = grossSalary * (impostoRenda + sindicato)\n",
    "\n",
    "salarioLiquido = grossSalary - totalDiscounts\n",
    "\n",
    "print(f\"-> Salário bruto: R$ {grossSalary:.2f}\")\n",
    "print(f\"-> Valor do FGTS: R$ {fgts:.2f}\")\n",
    "print(f\"-> Total em descontos: R$ {totalDiscounts:.2f}\")\n",
    "print(f\"-> Salário líquido: R$ {salarioLiquido:.2f}\")"
   ]
  },
  {
   "cell_type": "markdown",
   "metadata": {},
   "source": [
    "### Exercício 23\n",
    "\n",
    "> Faça um Programa que leia um número e exiba o dia correspondente da\n",
    "semana. (1- Domingo, 2- Segunda, etc.), se digitar outro valor deve aparecer valor\n",
    "inválido."
   ]
  },
  {
   "cell_type": "code",
   "execution_count": 37,
   "metadata": {},
   "outputs": [
    {
     "name": "stdout",
     "output_type": "stream",
     "text": [
      "Sábado\n"
     ]
    }
   ],
   "source": [
    "weekDay = [\"Domingo\", \"Segunda\", \"Terça\", \"Quarta\", \"Quinta\", \"Sexta\", \"Sábado\"]\n",
    "\n",
    "day = inputInt(\"Informe um número que representa um dia da semana: \")\n",
    "\n",
    "day -= 1\n",
    "\n",
    "if 0 <= day <= 6:\n",
    "\n",
    "    print(weekDay[day])\n",
    "\n",
    "else:\n",
    "\n",
    "    print('Valor inválido!')\n"
   ]
  },
  {
   "cell_type": "markdown",
   "metadata": {},
   "source": [
    "### Exercício 24\n",
    "\n",
    "> Faça um programa que lê as duas notas parciais obtidas por um aluno\n",
    "numa disciplina ao longo de um semestre, e calcule a sua média. A atribuição de\n",
    "conceitos obedece à tabela abaixo:<br><br>\n",
    "O algoritmo deve mostrar na tela as notas, a média, o conceito correspondente e a\n",
    "mensagem “APROVADO” se o conceito for A, B ou C ou “REPROVADO” se o conceito\n",
    "for D ou E."
   ]
  },
  {
   "cell_type": "code",
   "execution_count": 51,
   "metadata": {},
   "outputs": [
    {
     "name": "stdout",
     "output_type": "stream",
     "text": [
      "-> Nota 1: 7.5 | Nota 2: 9.8\n",
      "-> Média: 8.7 | Conceito: B\n",
      "-> APROVADO!\n"
     ]
    }
   ],
   "source": [
    "notas = []\n",
    "\n",
    "while len(notas) < 2:\n",
    "\n",
    "    notas.append(inputFloat(f'Informe a {len(notas)+1}º nota: '))\n",
    "\n",
    "media = mean(notas)\n",
    "\n",
    "conceito = \"A\" if 9 < media <= 10 else \"B\" if 7.5 < media <= 9 else \"C\" if 6 < media <= 7.5 else \"D\" if 4 < media <= 6 else \"E\" \n",
    "\n",
    "\n",
    "print(f\"-> Nota 1: {notas[0]} | Nota 2: {notas[1]}\")\n",
    "print(f\"-> Média: {media:.1f} | Conceito: {conceito}\")\n",
    "print('-> APROVADO!' if conceito.lower() in 'abc' else \"-> REPROVADO!\")"
   ]
  },
  {
   "cell_type": "markdown",
   "metadata": {},
   "source": [
    "### Exercício 25\n",
    "\n",
    "> Faça um Programa que peça os 3 lados de um triângulo. O programa\n",
    "deverá informar se os valores podem ser um triângulo. Indique, caso os lados formem\n",
    "um triângulo, se ele é: equilátero, isósceles ou escaleno.<br><br>\n",
    "Dicas:<br><br>\n",
    "Três lados formam um triângulo quando a soma de quaisquer dois lados for maior que o \n",
    "terceiro;<br><br>\n",
    "Triângulo Equilátero: três lados iguais;<br><br>\n",
    "Triângulo Isósceles: quaisquer dois lados iguais;<br><br>\n",
    "Triângulo Escaleno: três lados diferentes;"
   ]
  },
  {
   "cell_type": "code",
   "execution_count": 14,
   "metadata": {},
   "outputs": [
    {
     "name": "stdout",
     "output_type": "stream",
     "text": [
      "É possível formar um triângulo Equilátero\n"
     ]
    }
   ],
   "source": [
    "lados = []\n",
    "\n",
    "while len(lados) < 3:\n",
    "\n",
    "    lados.append(inputFloat(f'Informe o {len(lados)+1}º lado: '))\n",
    "\n",
    "isTriangle = False\n",
    "triangleType = \"Não é possível formar um triângulo!\"\n",
    "\n",
    "if lados[0] + lados[1] > lados[2] and lados[0] + lados[2] > lados[1] and lados[1] + lados[2] > lados[0]:\n",
    "\n",
    "    isTriangle = True\n",
    "    \n",
    "    if lados[0] == lados[1] == lados[2]:\n",
    "\n",
    "        triangleType = \"É possível formar um triângulo Equilátero\"\n",
    "    \n",
    "    elif lados[0] == lados[1] or lados[0] == lados[2] or lados[1] == lados[2]:\n",
    "\n",
    "        triangleType = \"É possível formar um triângulo Isósceles\"\n",
    "\n",
    "    else:\n",
    "\n",
    "        triangleType = \"É possível formar um triângulo Escaleno\"\n",
    "\n",
    "print(triangleType)"
   ]
  }
 ],
 "metadata": {
  "kernelspec": {
   "display_name": "Python 3",
   "language": "python",
   "name": "python3"
  },
  "language_info": {
   "codemirror_mode": {
    "name": "ipython",
    "version": 3
   },
   "file_extension": ".py",
   "mimetype": "text/x-python",
   "name": "python",
   "nbconvert_exporter": "python",
   "pygments_lexer": "ipython3",
   "version": "3.11.0"
  }
 },
 "nbformat": 4,
 "nbformat_minor": 2
}
