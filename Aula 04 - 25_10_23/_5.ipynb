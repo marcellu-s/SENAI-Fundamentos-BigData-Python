{
 "cells": [
  {
   "cell_type": "code",
   "execution_count": 40,
   "metadata": {},
   "outputs": [],
   "source": [
    "from modules import *"
   ]
  },
  {
   "cell_type": "code",
   "execution_count": 41,
   "metadata": {},
   "outputs": [
    {
     "name": "stdout",
     "output_type": "stream",
     "text": [
      "Ana\n",
      "Bruno\n",
      "['Bruno', 'João']\n",
      "João\n",
      "['Ana', 'Amanda']\n"
     ]
    }
   ],
   "source": [
    "users = ['Ana', 'Amanda', 'Bruno', 'João']\n",
    "\n",
    "# Exibir o primeiro nome da lista users\n",
    "print(users[0])\n",
    "\n",
    "# Exibir o terceiro nome da lista users\n",
    "print(users[2])\n",
    "\n",
    "# Exibir apenas os nomes Bruno e João\n",
    "print(users[2:])\n",
    "\n",
    "# Exibir o último nome\n",
    "print(users[-1])\n",
    "\n",
    "# Exibir os dois primeiros nomes\n",
    "print(users[:2])"
   ]
  },
  {
   "cell_type": "markdown",
   "metadata": {},
   "source": [
    "### Exercício 01\n",
    "\n",
    "> Crie uma lista com nomes de 4 times de futebol."
   ]
  },
  {
   "cell_type": "code",
   "execution_count": 42,
   "metadata": {},
   "outputs": [
    {
     "name": "stdout",
     "output_type": "stream",
     "text": [
      "Time na 3º posição: Santos\n",
      "Série A - ['Corinthians', 'Santos', 'São Paulo']\n",
      "Série B - ['Guarani', 'Chapecoense', 'Ponte Preta']\n"
     ]
    }
   ],
   "source": [
    "teams = ['Palmeiras', 'São Paulo', 'Santos', 'Água Santa']\n",
    "\n",
    "print(f\"Time na 3º posição: {teams[2]}\")\n",
    "\n",
    "teams = [[\"Corinthians\", \"Santos\", \"São Paulo\"], [\"Guarani\", \"Chapecoense\", \"Ponte Preta\"]]\n",
    "\n",
    "print(f\"Série A - {teams[0]}\")\n",
    "print(f\"Série B - {teams[1]}\")"
   ]
  },
  {
   "cell_type": "markdown",
   "metadata": {},
   "source": [
    "### Exercício 02\n",
    "\n",
    "> Crie uma lista com 3 diferentes moedas. Acrescente mais 2\n",
    "outras moedas à essa mesma lista."
   ]
  },
  {
   "cell_type": "code",
   "execution_count": 43,
   "metadata": {},
   "outputs": [
    {
     "name": "stdout",
     "output_type": "stream",
     "text": [
      "['Real', 'Euro', 'Dólar']\n",
      "['Real', 'Euro', 'Dólar', 'Ienes', 'Pesos']\n"
     ]
    }
   ],
   "source": [
    "coins = [\"Real\", \"Euro\", \"Dólar\"]\n",
    "\n",
    "print(coins)\n",
    "\n",
    "coins.append(\"Ienes\")\n",
    "coins.append(\"Pesos\")\n",
    "\n",
    "print(coins)"
   ]
  },
  {
   "cell_type": "markdown",
   "metadata": {},
   "source": [
    "### Exercício 03\n",
    "\n",
    "> Crie uma string com a lista do exercício anterior."
   ]
  },
  {
   "cell_type": "code",
   "execution_count": 44,
   "metadata": {},
   "outputs": [
    {
     "name": "stdout",
     "output_type": "stream",
     "text": [
      "Real Euro Dólar Ienes Pesos\n"
     ]
    }
   ],
   "source": [
    "coins = \" \".join(coins)\n",
    "\n",
    "print(coins)"
   ]
  },
  {
   "cell_type": "markdown",
   "metadata": {},
   "source": [
    "### Exercício 04 \n",
    "\n",
    "> Agora utilize a string do exercício 6 para recriar uma lista."
   ]
  },
  {
   "cell_type": "code",
   "execution_count": 45,
   "metadata": {},
   "outputs": [
    {
     "name": "stdout",
     "output_type": "stream",
     "text": [
      "['Real', 'Euro', 'Dólar', 'Ienes', 'Pesos']\n"
     ]
    }
   ],
   "source": [
    "coins = coins.split(\" \")\n",
    "\n",
    "print(coins)"
   ]
  },
  {
   "cell_type": "markdown",
   "metadata": {},
   "source": [
    "### Exercício 05\n",
    "\n",
    "> Crie um dicionário chamado cardápio em que as chaves são os\n",
    "dias da semana e os respectivos valores sejam os pratos do dia."
   ]
  },
  {
   "cell_type": "code",
   "execution_count": 46,
   "metadata": {},
   "outputs": [
    {
     "name": "stdout",
     "output_type": "stream",
     "text": [
      "Comida 01\n"
     ]
    }
   ],
   "source": [
    "cardápio = {\n",
    "    \"domingo\": \"Comida 01\",\n",
    "    \"segunda\": \"Comida 02\",\n",
    "    \"terça\": \"Comida 03\",\n",
    "    \"quarta\": \"Comida 04\",\n",
    "    \"quinta\": \"Comida 05\",\n",
    "    \"sexta\": \"Comida 06\",\n",
    "    \"sábado\": \"Comida 07\",\n",
    "}\n",
    "\n",
    "request = input(\"Informe um dia da semana: \").lower()\n",
    "\n",
    "if (cardápio.get(request) != None):\n",
    "\n",
    "    print(cardápio.get(request))\n",
    "\n",
    "else:\n",
    "    \n",
    "    print(\"Dia da semana inválido!\")"
   ]
  },
  {
   "cell_type": "markdown",
   "metadata": {},
   "source": [
    "### Exercício 06\n",
    "\n",
    "> Crie um dicionário chamado hemograma que contenha as\n",
    "seguintes chaves:valor.<br><br>\n",
    "• hemacias: 4.71<br>\n",
    "• hemoglobina: 14.1<br>\n",
    "• hematocrito: 41.2<br>\n",
    "• linfócitos: 38<br>\n",
    "• monocitos: 7<br>\n",
    "• resultado: saudável"
   ]
  },
  {
   "cell_type": "code",
   "execution_count": 52,
   "metadata": {},
   "outputs": [
    {
     "name": "stdout",
     "output_type": "stream",
     "text": [
      "{'hemacias': 4.71, 'hemoglobina': 14.1, 'hematocrito': 41.2, 'linfócitos': 38, 'monocitos': 7, 'resultado': 'saudável'}\n"
     ]
    }
   ],
   "source": [
    "hemograma = {\n",
    "    \"hemacias\": 4.71,\n",
    "    \"hemoglobina\": 14.1,\n",
    "    \"hematocrito\": 41.2,\n",
    "    \"linfócitos\": 38,\n",
    "    \"monocitos\": 7,\n",
    "    \"resultado\": \"saudável\"\n",
    "}\n",
    "\n",
    "print(hemograma)"
   ]
  },
  {
   "cell_type": "markdown",
   "metadata": {},
   "source": [
    "### Exercício 07\n",
    "\n",
    "> Corrija o dicionário acima com monocitos:12."
   ]
  },
  {
   "cell_type": "code",
   "execution_count": 53,
   "metadata": {},
   "outputs": [
    {
     "name": "stdout",
     "output_type": "stream",
     "text": [
      "{'hemacias': 4.71, 'hemoglobina': 14.1, 'hematocrito': 41.2, 'linfócitos': 38, 'monocitos': 12, 'resultado': 'saudável'}\n"
     ]
    }
   ],
   "source": [
    "hemograma.update({\n",
    "    \"monocitos\": 12\n",
    "})\n",
    "\n",
    "print(hemograma)    "
   ]
  },
  {
   "cell_type": "code",
   "execution_count": 67,
   "metadata": {},
   "outputs": [
    {
     "name": "stdout",
     "output_type": "stream",
     "text": [
      "(15, 50)\n",
      "<class 'tuple'>\n"
     ]
    }
   ],
   "source": [
    "def sum_and_product(x, y):\n",
    "    \n",
    "    return(x + y), (x * y)\n",
    "\n",
    "print(sum_and_product(10, 5))\n",
    "print(type(sum_and_product(10, 5)))"
   ]
  },
  {
   "cell_type": "code",
   "execution_count": 73,
   "metadata": {},
   "outputs": [
    {
     "name": "stdout",
     "output_type": "stream",
     "text": [
      "A variável \"altura\" e \"peso\" é do tipo <class 'dict'>\n"
     ]
    }
   ],
   "source": [
    "altura = {\n",
    "    'Amanda': 1.65,\n",
    "    'Ana': 1.60,\n",
    "    'João': 1.50\n",
    "}\n",
    "\n",
    "peso = {\n",
    "    'Amanda': 60,\n",
    "    'Ana': 58,\n",
    "    'João': 100,\n",
    "}\n",
    "\n",
    "print(f'A variável \"altura\" e \"peso\" é do tipo {type(altura)}')"
   ]
  }
 ],
 "metadata": {
  "kernelspec": {
   "display_name": "Python 3",
   "language": "python",
   "name": "python3"
  },
  "language_info": {
   "codemirror_mode": {
    "name": "ipython",
    "version": 3
   },
   "file_extension": ".py",
   "mimetype": "text/x-python",
   "name": "python",
   "nbconvert_exporter": "python",
   "pygments_lexer": "ipython3",
   "version": "3.11.0"
  }
 },
 "nbformat": 4,
 "nbformat_minor": 2
}
