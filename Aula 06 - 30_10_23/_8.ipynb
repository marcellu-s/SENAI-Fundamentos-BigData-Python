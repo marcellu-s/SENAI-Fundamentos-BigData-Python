{
 "cells": [
  {
   "cell_type": "code",
   "execution_count": 2,
   "metadata": {},
   "outputs": [],
   "source": [
    "import pandas as pd"
   ]
  },
  {
   "cell_type": "markdown",
   "metadata": {},
   "source": [
    "### Exercício 01\n",
    "\n",
    "> Manipulando dataframes com Pandas."
   ]
  },
  {
   "cell_type": "markdown",
   "metadata": {},
   "source": [
    "* a) Abra o arquivo world_happiness_report_2015.csv e o aloque em um dataframe."
   ]
  },
  {
   "cell_type": "code",
   "execution_count": 20,
   "metadata": {},
   "outputs": [],
   "source": [
    "document_path = \"./world_happiness_report_2015.csv\"\n",
    "\n",
    "dataframe = pd.read_csv(document_path)"
   ]
  },
  {
   "cell_type": "markdown",
   "metadata": {},
   "source": [
    "* b) Verifique o cabeçalho e o final do dataframe."
   ]
  },
  {
   "cell_type": "code",
   "execution_count": 5,
   "metadata": {},
   "outputs": [
    {
     "data": {
      "text/html": [
       "<div>\n",
       "<style scoped>\n",
       "    .dataframe tbody tr th:only-of-type {\n",
       "        vertical-align: middle;\n",
       "    }\n",
       "\n",
       "    .dataframe tbody tr th {\n",
       "        vertical-align: top;\n",
       "    }\n",
       "\n",
       "    .dataframe thead th {\n",
       "        text-align: right;\n",
       "    }\n",
       "</style>\n",
       "<table border=\"1\" class=\"dataframe\">\n",
       "  <thead>\n",
       "    <tr style=\"text-align: right;\">\n",
       "      <th></th>\n",
       "      <th>country</th>\n",
       "      <th>region</th>\n",
       "      <th>happiness rank</th>\n",
       "      <th>happiness score</th>\n",
       "      <th>standard error</th>\n",
       "      <th>economy (GDP per Capita)</th>\n",
       "      <th>family</th>\n",
       "      <th>health (Life Expectancy)</th>\n",
       "      <th>freedom</th>\n",
       "      <th>trust (Government Corruption)</th>\n",
       "      <th>generosity</th>\n",
       "      <th>dystopia residual</th>\n",
       "    </tr>\n",
       "  </thead>\n",
       "  <tbody>\n",
       "    <tr>\n",
       "      <th>162</th>\n",
       "      <td>Burundi</td>\n",
       "      <td>Sub-Saharan Africa</td>\n",
       "      <td>157</td>\n",
       "      <td>2.905</td>\n",
       "      <td>0.08658</td>\n",
       "      <td>0.01530</td>\n",
       "      <td>0.41587</td>\n",
       "      <td>0.22396</td>\n",
       "      <td>0.11850</td>\n",
       "      <td>0.10062</td>\n",
       "      <td>0.19727</td>\n",
       "      <td>NaN</td>\n",
       "    </tr>\n",
       "    <tr>\n",
       "      <th>163</th>\n",
       "      <td>Togo</td>\n",
       "      <td>Sub-Saharan Africa</td>\n",
       "      <td>158</td>\n",
       "      <td>2.839</td>\n",
       "      <td>0.06727</td>\n",
       "      <td>0.20868</td>\n",
       "      <td>0.13995</td>\n",
       "      <td>0.28443</td>\n",
       "      <td>0.36453</td>\n",
       "      <td>0.10731</td>\n",
       "      <td>0.16681</td>\n",
       "      <td>NaN</td>\n",
       "    </tr>\n",
       "  </tbody>\n",
       "</table>\n",
       "</div>"
      ],
      "text/plain": [
       "     country              region  happiness rank  happiness score  \\\n",
       "162  Burundi  Sub-Saharan Africa             157            2.905   \n",
       "163     Togo  Sub-Saharan Africa             158            2.839   \n",
       "\n",
       "     standard error  economy (GDP per Capita)   family  \\\n",
       "162         0.08658                   0.01530  0.41587   \n",
       "163         0.06727                   0.20868  0.13995   \n",
       "\n",
       "     health (Life Expectancy)  freedom  trust (Government Corruption)  \\\n",
       "162                   0.22396  0.11850                        0.10062   \n",
       "163                   0.28443  0.36453                        0.10731   \n",
       "\n",
       "     generosity  dystopia residual  \n",
       "162     0.19727                NaN  \n",
       "163     0.16681                NaN  "
      ]
     },
     "execution_count": 5,
     "metadata": {},
     "output_type": "execute_result"
    }
   ],
   "source": [
    "dataframe.head(2)"
   ]
  },
  {
   "cell_type": "code",
   "execution_count": 6,
   "metadata": {},
   "outputs": [
    {
     "data": {
      "text/html": [
       "<div>\n",
       "<style scoped>\n",
       "    .dataframe tbody tr th:only-of-type {\n",
       "        vertical-align: middle;\n",
       "    }\n",
       "\n",
       "    .dataframe tbody tr th {\n",
       "        vertical-align: top;\n",
       "    }\n",
       "\n",
       "    .dataframe thead th {\n",
       "        text-align: right;\n",
       "    }\n",
       "</style>\n",
       "<table border=\"1\" class=\"dataframe\">\n",
       "  <thead>\n",
       "    <tr style=\"text-align: right;\">\n",
       "      <th></th>\n",
       "      <th>country</th>\n",
       "      <th>region</th>\n",
       "      <th>happiness rank</th>\n",
       "      <th>happiness score</th>\n",
       "      <th>standard error</th>\n",
       "      <th>economy (GDP per Capita)</th>\n",
       "      <th>family</th>\n",
       "      <th>health (Life Expectancy)</th>\n",
       "      <th>freedom</th>\n",
       "      <th>trust (Government Corruption)</th>\n",
       "      <th>generosity</th>\n",
       "      <th>dystopia residual</th>\n",
       "    </tr>\n",
       "  </thead>\n",
       "  <tbody>\n",
       "    <tr>\n",
       "      <th>162</th>\n",
       "      <td>Burundi</td>\n",
       "      <td>Sub-Saharan Africa</td>\n",
       "      <td>157</td>\n",
       "      <td>2.905</td>\n",
       "      <td>0.08658</td>\n",
       "      <td>0.01530</td>\n",
       "      <td>0.41587</td>\n",
       "      <td>0.22396</td>\n",
       "      <td>0.11850</td>\n",
       "      <td>0.10062</td>\n",
       "      <td>0.19727</td>\n",
       "      <td>NaN</td>\n",
       "    </tr>\n",
       "    <tr>\n",
       "      <th>163</th>\n",
       "      <td>Togo</td>\n",
       "      <td>Sub-Saharan Africa</td>\n",
       "      <td>158</td>\n",
       "      <td>2.839</td>\n",
       "      <td>0.06727</td>\n",
       "      <td>0.20868</td>\n",
       "      <td>0.13995</td>\n",
       "      <td>0.28443</td>\n",
       "      <td>0.36453</td>\n",
       "      <td>0.10731</td>\n",
       "      <td>0.16681</td>\n",
       "      <td>NaN</td>\n",
       "    </tr>\n",
       "  </tbody>\n",
       "</table>\n",
       "</div>"
      ],
      "text/plain": [
       "     country              region  happiness rank  happiness score  \\\n",
       "162  Burundi  Sub-Saharan Africa             157            2.905   \n",
       "163     Togo  Sub-Saharan Africa             158            2.839   \n",
       "\n",
       "     standard error  economy (GDP per Capita)   family  \\\n",
       "162         0.08658                   0.01530  0.41587   \n",
       "163         0.06727                   0.20868  0.13995   \n",
       "\n",
       "     health (Life Expectancy)  freedom  trust (Government Corruption)  \\\n",
       "162                   0.22396  0.11850                        0.10062   \n",
       "163                   0.28443  0.36453                        0.10731   \n",
       "\n",
       "     generosity  dystopia residual  \n",
       "162     0.19727                NaN  \n",
       "163     0.16681                NaN  "
      ]
     },
     "execution_count": 6,
     "metadata": {},
     "output_type": "execute_result"
    }
   ],
   "source": [
    "dataframe.tail(2)"
   ]
  },
  {
   "cell_type": "markdown",
   "metadata": {},
   "source": [
    "* c) Quais as colunas desse dataframe?"
   ]
  },
  {
   "cell_type": "code",
   "execution_count": 39,
   "metadata": {},
   "outputs": [
    {
     "name": "stdout",
     "output_type": "stream",
     "text": [
      "<class 'pandas.core.frame.DataFrame'>\n",
      "RangeIndex: 164 entries, 0 to 163\n",
      "Data columns (total 12 columns):\n",
      " #   Column             Non-Null Count  Dtype  \n",
      "---  ------             --------------  -----  \n",
      " 0   country            164 non-null    object \n",
      " 1   region             164 non-null    object \n",
      " 2   rank_felicidade    164 non-null    int64  \n",
      " 3   score_felicidade   156 non-null    float64\n",
      " 4   stand_error        163 non-null    float64\n",
      " 5   PIB                164 non-null    float64\n",
      " 6   family             164 non-null    float64\n",
      " 7   expect_vida        164 non-null    float64\n",
      " 8   freedom            164 non-null    float64\n",
      " 9   corrupcao          164 non-null    float64\n",
      " 10  generosity         164 non-null    float64\n",
      " 11  dystopia residual  150 non-null    float64\n",
      "dtypes: float64(9), int64(1), object(2)\n",
      "memory usage: 15.5+ KB\n"
     ]
    }
   ],
   "source": [
    "dataframe.info()"
   ]
  },
  {
   "cell_type": "markdown",
   "metadata": {},
   "source": [
    "* d) Quais os tipos de dados temos no dataframe?"
   ]
  },
  {
   "cell_type": "code",
   "execution_count": 13,
   "metadata": {},
   "outputs": [
    {
     "data": {
      "text/plain": [
       "country                           object\n",
       "region                            object\n",
       "happiness rank                     int64\n",
       "happiness score                  float64\n",
       "standard error                   float64\n",
       "economy (GDP per Capita)         float64\n",
       "family                           float64\n",
       "health (Life Expectancy)         float64\n",
       "freedom                          float64\n",
       "trust (Government Corruption)    float64\n",
       "generosity                       float64\n",
       "dystopia residual                float64\n",
       "dtype: object"
      ]
     },
     "execution_count": 13,
     "metadata": {},
     "output_type": "execute_result"
    }
   ],
   "source": [
    "dataframe.dtypes"
   ]
  },
  {
   "cell_type": "markdown",
   "metadata": {},
   "source": [
    "* e) Há valores faltantes ou nulos? Em quais colunas?"
   ]
  },
  {
   "cell_type": "code",
   "execution_count": 35,
   "metadata": {},
   "outputs": [
    {
     "name": "stdout",
     "output_type": "stream",
     "text": [
      "<class 'pandas.core.frame.DataFrame'>\n",
      "RangeIndex: 164 entries, 0 to 163\n",
      "Data columns (total 12 columns):\n",
      " #   Column             Non-Null Count  Dtype  \n",
      "---  ------             --------------  -----  \n",
      " 0   country            164 non-null    object \n",
      " 1   region             164 non-null    object \n",
      " 2   rank_felicidade    164 non-null    int64  \n",
      " 3   score_felicidade   156 non-null    float64\n",
      " 4   stand_error        163 non-null    float64\n",
      " 5   PIB                164 non-null    float64\n",
      " 6   family             164 non-null    float64\n",
      " 7   expect_vida        164 non-null    float64\n",
      " 8   freedom            164 non-null    float64\n",
      " 9   corrupcao          164 non-null    float64\n",
      " 10  generosity         164 non-null    float64\n",
      " 11  dystopia residual  150 non-null    float64\n",
      "dtypes: float64(9), int64(1), object(2)\n",
      "memory usage: 15.5+ KB\n"
     ]
    }
   ],
   "source": [
    "dataframe.info()"
   ]
  },
  {
   "cell_type": "markdown",
   "metadata": {},
   "source": [
    "* f) Renomeie as variáveis como segue:"
   ]
  },
  {
   "cell_type": "code",
   "execution_count": 30,
   "metadata": {},
   "outputs": [
    {
     "data": {
      "text/html": [
       "<div>\n",
       "<style scoped>\n",
       "    .dataframe tbody tr th:only-of-type {\n",
       "        vertical-align: middle;\n",
       "    }\n",
       "\n",
       "    .dataframe tbody tr th {\n",
       "        vertical-align: top;\n",
       "    }\n",
       "\n",
       "    .dataframe thead th {\n",
       "        text-align: right;\n",
       "    }\n",
       "</style>\n",
       "<table border=\"1\" class=\"dataframe\">\n",
       "  <thead>\n",
       "    <tr style=\"text-align: right;\">\n",
       "      <th></th>\n",
       "      <th>country</th>\n",
       "      <th>region</th>\n",
       "      <th>rank_felicidade</th>\n",
       "      <th>score_felicidade</th>\n",
       "      <th>stand_error</th>\n",
       "      <th>PIB</th>\n",
       "      <th>family</th>\n",
       "      <th>expect_vida</th>\n",
       "      <th>freedom</th>\n",
       "      <th>corrupcao</th>\n",
       "      <th>generosity</th>\n",
       "      <th>dystopia residual</th>\n",
       "    </tr>\n",
       "  </thead>\n",
       "  <tbody>\n",
       "  </tbody>\n",
       "</table>\n",
       "</div>"
      ],
      "text/plain": [
       "Empty DataFrame\n",
       "Columns: [country, region, rank_felicidade, score_felicidade, stand_error, PIB, family, expect_vida, freedom, corrupcao, generosity, dystopia residual]\n",
       "Index: []"
      ]
     },
     "execution_count": 30,
     "metadata": {},
     "output_type": "execute_result"
    }
   ],
   "source": [
    "dataframe = dataframe.rename(columns={\n",
    "    'happiness rank': 'rank_felicidade',\n",
    "    'happiness score': 'score_felicidade',\n",
    "    'standard error': 'stand_error',\n",
    "    'economy (GDP per Capita)': 'PIB',\n",
    "    'health (Life Expectancy)': 'expect_vida',\n",
    "    'trust (Government Corruption)': 'corrupcao'\n",
    "})\n",
    "\n",
    "dataframe.head(0)"
   ]
  },
  {
   "cell_type": "markdown",
   "metadata": {},
   "source": [
    "* g) Quais os valores médios de expect_vida? E o valor mediano? E o máximo da\n",
    "variável PIB?"
   ]
  },
  {
   "cell_type": "code",
   "execution_count": 34,
   "metadata": {},
   "outputs": [
    {
     "data": {
      "text/html": [
       "<div>\n",
       "<style scoped>\n",
       "    .dataframe tbody tr th:only-of-type {\n",
       "        vertical-align: middle;\n",
       "    }\n",
       "\n",
       "    .dataframe tbody tr th {\n",
       "        vertical-align: top;\n",
       "    }\n",
       "\n",
       "    .dataframe thead th {\n",
       "        text-align: right;\n",
       "    }\n",
       "</style>\n",
       "<table border=\"1\" class=\"dataframe\">\n",
       "  <thead>\n",
       "    <tr style=\"text-align: right;\">\n",
       "      <th></th>\n",
       "      <th>rank_felicidade</th>\n",
       "      <th>score_felicidade</th>\n",
       "      <th>stand_error</th>\n",
       "      <th>PIB</th>\n",
       "      <th>family</th>\n",
       "      <th>expect_vida</th>\n",
       "      <th>freedom</th>\n",
       "      <th>corrupcao</th>\n",
       "      <th>generosity</th>\n",
       "      <th>dystopia residual</th>\n",
       "    </tr>\n",
       "  </thead>\n",
       "  <tbody>\n",
       "    <tr>\n",
       "      <th>count</th>\n",
       "      <td>164.000000</td>\n",
       "      <td>156.000000</td>\n",
       "      <td>163.000000</td>\n",
       "      <td>164.000000</td>\n",
       "      <td>164.000000</td>\n",
       "      <td>164.000000</td>\n",
       "      <td>164.000000</td>\n",
       "      <td>164.000000</td>\n",
       "      <td>164.000000</td>\n",
       "      <td>150.000000</td>\n",
       "    </tr>\n",
       "    <tr>\n",
       "      <th>mean</th>\n",
       "      <td>77.018293</td>\n",
       "      <td>5.424487</td>\n",
       "      <td>0.047692</td>\n",
       "      <td>0.862023</td>\n",
       "      <td>1.000812</td>\n",
       "      <td>0.638187</td>\n",
       "      <td>0.434959</td>\n",
       "      <td>0.149978</td>\n",
       "      <td>0.239615</td>\n",
       "      <td>2.128909</td>\n",
       "    </tr>\n",
       "    <tr>\n",
       "      <th>std</th>\n",
       "      <td>46.699860</td>\n",
       "      <td>1.212568</td>\n",
       "      <td>0.017110</td>\n",
       "      <td>0.404519</td>\n",
       "      <td>0.272449</td>\n",
       "      <td>0.246327</td>\n",
       "      <td>0.152201</td>\n",
       "      <td>0.124201</td>\n",
       "      <td>0.128053</td>\n",
       "      <td>0.563160</td>\n",
       "    </tr>\n",
       "    <tr>\n",
       "      <th>min</th>\n",
       "      <td>1.000000</td>\n",
       "      <td>2.000000</td>\n",
       "      <td>0.018480</td>\n",
       "      <td>0.000000</td>\n",
       "      <td>0.000000</td>\n",
       "      <td>0.000000</td>\n",
       "      <td>0.000000</td>\n",
       "      <td>0.000000</td>\n",
       "      <td>0.000000</td>\n",
       "      <td>0.328580</td>\n",
       "    </tr>\n",
       "    <tr>\n",
       "      <th>25%</th>\n",
       "      <td>35.750000</td>\n",
       "      <td>4.561250</td>\n",
       "      <td>0.036780</td>\n",
       "      <td>0.579618</td>\n",
       "      <td>0.863468</td>\n",
       "      <td>0.460545</td>\n",
       "      <td>0.331247</td>\n",
       "      <td>0.063010</td>\n",
       "      <td>0.152017</td>\n",
       "      <td>1.811778</td>\n",
       "    </tr>\n",
       "    <tr>\n",
       "      <th>50%</th>\n",
       "      <td>76.500000</td>\n",
       "      <td>5.260500</td>\n",
       "      <td>0.043940</td>\n",
       "      <td>0.920510</td>\n",
       "      <td>1.038145</td>\n",
       "      <td>0.705930</td>\n",
       "      <td>0.440745</td>\n",
       "      <td>0.110690</td>\n",
       "      <td>0.217155</td>\n",
       "      <td>2.120700</td>\n",
       "    </tr>\n",
       "    <tr>\n",
       "      <th>75%</th>\n",
       "      <td>117.250000</td>\n",
       "      <td>6.422000</td>\n",
       "      <td>0.052335</td>\n",
       "      <td>1.190585</td>\n",
       "      <td>1.226987</td>\n",
       "      <td>0.814975</td>\n",
       "      <td>0.557190</td>\n",
       "      <td>0.189380</td>\n",
       "      <td>0.319570</td>\n",
       "      <td>2.474890</td>\n",
       "    </tr>\n",
       "    <tr>\n",
       "      <th>max</th>\n",
       "      <td>158.000000</td>\n",
       "      <td>7.587000</td>\n",
       "      <td>0.136930</td>\n",
       "      <td>1.690420</td>\n",
       "      <td>1.402230</td>\n",
       "      <td>1.025250</td>\n",
       "      <td>0.669730</td>\n",
       "      <td>0.551910</td>\n",
       "      <td>0.795880</td>\n",
       "      <td>3.602140</td>\n",
       "    </tr>\n",
       "  </tbody>\n",
       "</table>\n",
       "</div>"
      ],
      "text/plain": [
       "       rank_felicidade  score_felicidade  stand_error         PIB      family  \\\n",
       "count       164.000000        156.000000   163.000000  164.000000  164.000000   \n",
       "mean         77.018293          5.424487     0.047692    0.862023    1.000812   \n",
       "std          46.699860          1.212568     0.017110    0.404519    0.272449   \n",
       "min           1.000000          2.000000     0.018480    0.000000    0.000000   \n",
       "25%          35.750000          4.561250     0.036780    0.579618    0.863468   \n",
       "50%          76.500000          5.260500     0.043940    0.920510    1.038145   \n",
       "75%         117.250000          6.422000     0.052335    1.190585    1.226987   \n",
       "max         158.000000          7.587000     0.136930    1.690420    1.402230   \n",
       "\n",
       "       expect_vida     freedom   corrupcao  generosity  dystopia residual  \n",
       "count   164.000000  164.000000  164.000000  164.000000         150.000000  \n",
       "mean      0.638187    0.434959    0.149978    0.239615           2.128909  \n",
       "std       0.246327    0.152201    0.124201    0.128053           0.563160  \n",
       "min       0.000000    0.000000    0.000000    0.000000           0.328580  \n",
       "25%       0.460545    0.331247    0.063010    0.152017           1.811778  \n",
       "50%       0.705930    0.440745    0.110690    0.217155           2.120700  \n",
       "75%       0.814975    0.557190    0.189380    0.319570           2.474890  \n",
       "max       1.025250    0.669730    0.551910    0.795880           3.602140  "
      ]
     },
     "execution_count": 34,
     "metadata": {},
     "output_type": "execute_result"
    }
   ],
   "source": [
    "dataframe.describe()"
   ]
  }
 ],
 "metadata": {
  "kernelspec": {
   "display_name": "Python 3",
   "language": "python",
   "name": "python3"
  },
  "language_info": {
   "codemirror_mode": {
    "name": "ipython",
    "version": 3
   },
   "file_extension": ".py",
   "mimetype": "text/x-python",
   "name": "python",
   "nbconvert_exporter": "python",
   "pygments_lexer": "ipython3",
   "version": "3.11.0"
  }
 },
 "nbformat": 4,
 "nbformat_minor": 2
}
