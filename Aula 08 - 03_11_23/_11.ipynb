{
 "cells": [
  {
   "cell_type": "code",
   "execution_count": 27,
   "metadata": {},
   "outputs": [],
   "source": [
    "import pandas as pd\n",
    "\n",
    "import os"
   ]
  },
  {
   "cell_type": "markdown",
   "metadata": {},
   "source": [
    "### Exercício 04\n",
    "\n",
    "> Criando relatórios em função do arquivo dados-vendas.xlsx."
   ]
  },
  {
   "cell_type": "markdown",
   "metadata": {},
   "source": [
    "* a) Crie um dataframe, utilizando o arquivo dados-vendas.xlsx. Crie data frames\n",
    "para dividir a planilha vendas em 4 arquivos. São eles:"
   ]
  },
  {
   "cell_type": "code",
   "execution_count": 45,
   "metadata": {},
   "outputs": [],
   "source": [
    "document_path = './dados-vendas.xlsx'\n",
    "\n",
    "dataframe = pd.read_excel(document_path)"
   ]
  },
  {
   "cell_type": "code",
   "execution_count": 46,
   "metadata": {},
   "outputs": [],
   "source": [
    "dataframe = dataframe.rename(columns={\n",
    "    'Loja': 'ID-Loja',\n",
    "    'Data Venda': 'Data'\n",
    "})"
   ]
  },
  {
   "cell_type": "code",
   "execution_count": 10,
   "metadata": {},
   "outputs": [],
   "source": [
    "tabelas = {\n",
    "    \"tabela_fato\": dataframe.loc[:, ['ID-Produto','ID-Loja', 'ID-Vendedor', 'Data', 'ValorVenda']],\n",
    "    \"tabela_produtos\": dataframe.loc[:, ['ID-Produto', 'Produto', 'Categoria', 'Segmento', 'Fabricante']],\n",
    "    \"tabela_lojas\": dataframe.loc[:, ['ID-Loja', 'Cidade', 'Estado']],\n",
    "    \"tabela_vendedor\": dataframe.loc[:, ['ID-Vendedor', 'Vendedor']]\n",
    "}\n",
    "\n",
    "output_path = './answers_dados_vendas/'\n",
    "\n",
    "for name_tabela, tabela in tabelas.items():\n",
    "\n",
    "    tabela.to_excel(output_path + f'{name_tabela}.xlsx', index=False)\n"
   ]
  },
  {
   "cell_type": "markdown",
   "metadata": {},
   "source": [
    "* b) Com base na coluna Vendedor, construa um código que permita remover as\n",
    "duplicadas da coluna informada, e na sequência, filtre o dataframe e gere um\n",
    "relatório individual para cada vendedor. Para fazer isso, siga os procedimentos\n",
    "a seguir:"
   ]
  },
  {
   "cell_type": "code",
   "execution_count": 17,
   "metadata": {},
   "outputs": [],
   "source": [
    "df_vendedores = dataframe.loc[:, 'Vendedor'].drop_duplicates()\n",
    "\n",
    "vendedores = df_vendedores.tolist()\n",
    "\n",
    "output_path = './relatorios_vendedores/'\n",
    "\n",
    "for vendedor in vendedores:\n",
    "\n",
    "    dataframe[dataframe['Vendedor'] == vendedor].to_excel(output_path + f'{vendedor.lower()}.xlsx', index=False)"
   ]
  },
  {
   "cell_type": "markdown",
   "metadata": {},
   "source": [
    "- c) Repita esse procedimento para os campos Categoria, Segmento,\n",
    "Fabricante, Cidade e Estado. Reescreva todo o código para cada\n",
    "caso, com o objetivode exercitar a sintaxe dos comandos."
   ]
  },
  {
   "cell_type": "code",
   "execution_count": 69,
   "metadata": {},
   "outputs": [],
   "source": [
    "all_necessary_columns = ['Categoria', 'Segmento', 'Fabricante', 'Cidade', 'Estado']\n",
    "\n",
    "for column in all_necessary_columns:\n",
    "\n",
    "    if not os.path.exists(f'./relatorios/{column}'):\n",
    "\n",
    "        os.mkdir(f'./relatorios/{column}')\n",
    "\n",
    "    values = dataframe.loc[:, column].drop_duplicates().tolist()\n",
    "\n",
    "    for value in values:\n",
    "\n",
    "        end_dataframe = dataframe[dataframe[column] == value].drop_duplicates()\n",
    "\n",
    "        end_dataframe.to_excel(f'./relatorios/{column}/' + f'{value}.xlsx', index=False)"
   ]
  }
 ],
 "metadata": {
  "kernelspec": {
   "display_name": "Python 3",
   "language": "python",
   "name": "python3"
  },
  "language_info": {
   "codemirror_mode": {
    "name": "ipython",
    "version": 3
   },
   "file_extension": ".py",
   "mimetype": "text/x-python",
   "name": "python",
   "nbconvert_exporter": "python",
   "pygments_lexer": "ipython3",
   "version": "3.11.0"
  }
 },
 "nbformat": 4,
 "nbformat_minor": 2
}
