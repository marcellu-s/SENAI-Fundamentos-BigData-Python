{
 "cells": [
  {
   "cell_type": "code",
   "execution_count": 2,
   "metadata": {},
   "outputs": [],
   "source": [
    "import pandas as pd"
   ]
  },
  {
   "cell_type": "markdown",
   "metadata": {},
   "source": [
    "### Exercício 04\n",
    "\n",
    "> Criando relatórios em função do arquivo dados-vendas.xlsx."
   ]
  },
  {
   "cell_type": "markdown",
   "metadata": {},
   "source": [
    "* a) Crie um dataframe, utilizando o arquivo dados-vendas.xlsx. Crie data frames\n",
    "para dividir a planilha vendas em 4 arquivos. São eles:"
   ]
  },
  {
   "cell_type": "code",
   "execution_count": 3,
   "metadata": {},
   "outputs": [],
   "source": [
    "document_path = './dados-vendas.xlsx'\n",
    "\n",
    "dataframe = pd.read_excel(document_path)"
   ]
  },
  {
   "cell_type": "code",
   "execution_count": 4,
   "metadata": {},
   "outputs": [],
   "source": [
    "dataframe = dataframe.rename(columns={\n",
    "    'Loja': 'ID-Loja',\n",
    "    'Data Venda': 'Data'\n",
    "})"
   ]
  },
  {
   "cell_type": "code",
   "execution_count": 10,
   "metadata": {},
   "outputs": [],
   "source": [
    "tabelas = {\n",
    "    \"tabela_fato\": dataframe.loc[:, ['ID-Produto','ID-Loja', 'ID-Vendedor', 'Data', 'ValorVenda']],\n",
    "    \"tabela_produtos\": dataframe.loc[:, ['ID-Produto', 'Produto', 'Categoria', 'Segmento', 'Fabricante']],\n",
    "    \"tabela_lojas\": dataframe.loc[:, ['ID-Loja', 'Cidade', 'Estado']],\n",
    "    \"tabela_vendedor\": dataframe.loc[:, ['ID-Vendedor', 'Vendedor']]\n",
    "}\n",
    "\n",
    "output_path = './answers_dados_vendas/'\n",
    "\n",
    "for name_tabela, tabela in tabelas.items():\n",
    "\n",
    "    tabela.to_excel(output_path + f'{name_tabela}.xlsx')\n"
   ]
  },
  {
   "cell_type": "markdown",
   "metadata": {},
   "source": [
    "* b) Com base na coluna Vendedor, construa um código que permita remover as\n",
    "duplicadas da coluna informada, e na sequência, filtre o dataframe e gere um\n",
    "relatório individual para cada vendedor. Para fazer isso, siga os procedimentos\n",
    "a seguir:"
   ]
  }
 ],
 "metadata": {
  "kernelspec": {
   "display_name": "Python 3",
   "language": "python",
   "name": "python3"
  },
  "language_info": {
   "codemirror_mode": {
    "name": "ipython",
    "version": 3
   },
   "file_extension": ".py",
   "mimetype": "text/x-python",
   "name": "python",
   "nbconvert_exporter": "python",
   "pygments_lexer": "ipython3",
   "version": "3.11.0"
  }
 },
 "nbformat": 4,
 "nbformat_minor": 2
}
