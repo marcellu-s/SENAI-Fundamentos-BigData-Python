{
 "cells": [
  {
   "cell_type": "code",
   "execution_count": 1,
   "metadata": {},
   "outputs": [],
   "source": [
    "import pandas as pd"
   ]
  },
  {
   "cell_type": "code",
   "execution_count": 2,
   "metadata": {},
   "outputs": [],
   "source": [
    "document_path = \"./Imobiliária.xlsx\"\n",
    "\n",
    "dataframe = pd.read_excel(document_path)\n",
    "\n",
    "dataframe.columns = [\n",
    "    'Filial',\n",
    "    'Vendedor',\n",
    "    'Data',\n",
    "    'Tipo',\n",
    "    'Área (m²)',\n",
    "    'Dorms.',\n",
    "    'Garag.',\n",
    "    'Piscina',\n",
    "    'Preço',\n",
    "    'Comissão'\n",
    "]"
   ]
  },
  {
   "cell_type": "code",
   "execution_count": 5,
   "metadata": {},
   "outputs": [
    {
     "data": {
      "text/html": [
       "<div>\n",
       "<style scoped>\n",
       "    .dataframe tbody tr th:only-of-type {\n",
       "        vertical-align: middle;\n",
       "    }\n",
       "\n",
       "    .dataframe tbody tr th {\n",
       "        vertical-align: top;\n",
       "    }\n",
       "\n",
       "    .dataframe thead th {\n",
       "        text-align: right;\n",
       "    }\n",
       "</style>\n",
       "<table border=\"1\" class=\"dataframe\">\n",
       "  <thead>\n",
       "    <tr style=\"text-align: right;\">\n",
       "      <th></th>\n",
       "      <th>Filial</th>\n",
       "      <th>Vendedor</th>\n",
       "      <th>Data</th>\n",
       "      <th>Tipo</th>\n",
       "      <th>Área (m²)</th>\n",
       "      <th>Dorms.</th>\n",
       "      <th>Garag.</th>\n",
       "      <th>Piscina</th>\n",
       "      <th>Preço</th>\n",
       "      <th>Comissão</th>\n",
       "    </tr>\n",
       "  </thead>\n",
       "  <tbody>\n",
       "    <tr>\n",
       "      <th>0</th>\n",
       "      <td>Centro</td>\n",
       "      <td>Simone</td>\n",
       "      <td>2005-10-08</td>\n",
       "      <td>Apartamento</td>\n",
       "      <td>102.5</td>\n",
       "      <td>2</td>\n",
       "      <td>2</td>\n",
       "      <td>Sim</td>\n",
       "      <td>235500</td>\n",
       "      <td>3532.5</td>\n",
       "    </tr>\n",
       "    <tr>\n",
       "      <th>1</th>\n",
       "      <td>Noroeste</td>\n",
       "      <td>Simone</td>\n",
       "      <td>2005-10-08</td>\n",
       "      <td>Apartamento</td>\n",
       "      <td>199.5</td>\n",
       "      <td>4</td>\n",
       "      <td>4</td>\n",
       "      <td>Não</td>\n",
       "      <td>377700</td>\n",
       "      <td>5665.5</td>\n",
       "    </tr>\n",
       "    <tr>\n",
       "      <th>2</th>\n",
       "      <td>Norte</td>\n",
       "      <td>Roberto</td>\n",
       "      <td>2005-10-12</td>\n",
       "      <td>Casa</td>\n",
       "      <td>145.5</td>\n",
       "      <td>2</td>\n",
       "      <td>2</td>\n",
       "      <td>Não</td>\n",
       "      <td>232500</td>\n",
       "      <td>3487.5</td>\n",
       "    </tr>\n",
       "    <tr>\n",
       "      <th>3</th>\n",
       "      <td>Sudeste</td>\n",
       "      <td>Simone</td>\n",
       "      <td>2005-10-14</td>\n",
       "      <td>Apartamento</td>\n",
       "      <td>153.5</td>\n",
       "      <td>3</td>\n",
       "      <td>2</td>\n",
       "      <td>Não</td>\n",
       "      <td>289100</td>\n",
       "      <td>4336.5</td>\n",
       "    </tr>\n",
       "    <tr>\n",
       "      <th>4</th>\n",
       "      <td>Noroeste</td>\n",
       "      <td>Cristina</td>\n",
       "      <td>2005-10-16</td>\n",
       "      <td>Apartamento</td>\n",
       "      <td>93.0</td>\n",
       "      <td>2</td>\n",
       "      <td>2</td>\n",
       "      <td>Sim</td>\n",
       "      <td>235400</td>\n",
       "      <td>3531.0</td>\n",
       "    </tr>\n",
       "  </tbody>\n",
       "</table>\n",
       "</div>"
      ],
      "text/plain": [
       "     Filial  Vendedor       Data         Tipo  Área (m²)  Dorms.  Garag.  \\\n",
       "0    Centro    Simone 2005-10-08  Apartamento      102.5       2       2   \n",
       "1  Noroeste    Simone 2005-10-08  Apartamento      199.5       4       4   \n",
       "2     Norte   Roberto 2005-10-12         Casa      145.5       2       2   \n",
       "3   Sudeste    Simone 2005-10-14  Apartamento      153.5       3       2   \n",
       "4  Noroeste  Cristina 2005-10-16  Apartamento       93.0       2       2   \n",
       "\n",
       "  Piscina   Preço  Comissão  \n",
       "0     Sim  235500    3532.5  \n",
       "1     Não  377700    5665.5  \n",
       "2     Não  232500    3487.5  \n",
       "3     Não  289100    4336.5  \n",
       "4     Sim  235400    3531.0  "
      ]
     },
     "execution_count": 5,
     "metadata": {},
     "output_type": "execute_result"
    }
   ],
   "source": [
    "dataframe.head()"
   ]
  },
  {
   "cell_type": "markdown",
   "metadata": {},
   "source": [
    "* l) Gere um arquivo em Excel para representar as vendas efetuadas pela filial norte\n",
    "em 2010."
   ]
  },
  {
   "cell_type": "code",
   "execution_count": 16,
   "metadata": {},
   "outputs": [],
   "source": [
    "# Filtrar os dados\n",
    "interval = (dataframe['Data'] >= '2010-01-01') & (dataframe['Data'] <= '2010-12-31')\n",
    "\n",
    "end_dataframe = dataframe[(dataframe['Filial'] == 'Norte') & interval]\n",
    "\n",
    "# Mapear o caminho final e definir um nome para o arquivo\n",
    "output_path = \"./answers_imobiliaria/\"\n",
    "arq_name = 'vendas_norte_2010.xlsx'\n",
    "\n",
    "# Salvar o arquivo na pasta\n",
    "end_dataframe.to_excel(output_path + arq_name, index=False)"
   ]
  },
  {
   "cell_type": "markdown",
   "metadata": {},
   "source": [
    "* m) Gere um arquivo em Excel para representar as vendas efetuadas pela filial\n",
    "Sudeste em 2010. Sendo que no relatório deve conter apenas vendas de casas\n",
    "sem garagem."
   ]
  },
  {
   "cell_type": "code",
   "execution_count": 20,
   "metadata": {},
   "outputs": [],
   "source": [
    "# Filtrar os dados\n",
    "interval = (dataframe['Data'] >= '2010-01-01') & (dataframe['Data'] <= '2010-12-31')\n",
    "\n",
    "region = (dataframe['Filial'] == 'Sudeste')\n",
    "\n",
    "end_dataframe = dataframe[region & interval & (dataframe['Tipo'] == 'Casa') & (dataframe['Garag.'] == 0)]\n",
    "\n",
    "# Mapear o caminho final e definir um nome para o arquivo\n",
    "output_path = \"./answers_imobiliaria/\"\n",
    "arq_name = 'casas_sudeste_2010_sem_garagem.xlsx'\n",
    "\n",
    "# Salvar o arquivo na pasta\n",
    "end_dataframe.to_excel(output_path + arq_name, index=False)"
   ]
  },
  {
   "cell_type": "markdown",
   "metadata": {},
   "source": [
    "* n) Qual o valor máximo de comissão que a imobiliária numa venda?"
   ]
  },
  {
   "cell_type": "code",
   "execution_count": 23,
   "metadata": {},
   "outputs": [
    {
     "name": "stdout",
     "output_type": "stream",
     "text": [
      "5764.5\n"
     ]
    }
   ],
   "source": [
    "# Filtrar os dados\n",
    "end_dataframe = dataframe[(dataframe['Comissão'] == dataframe['Comissão'].max())]\n",
    "\n",
    "# Mapear o caminho final e definir um nome para o arquivo\n",
    "output_path = \"./answers_imobiliaria/\"\n",
    "arq_name = 'venda_maior_comissao.xlsx'\n",
    "\n",
    "# Salvar o arquivo na pasta\n",
    "end_dataframe.to_excel(output_path + arq_name, index=False)"
   ]
  },
  {
   "cell_type": "markdown",
   "metadata": {},
   "source": [
    "* o) Quantas casas de 2 ou 3 dormitórios foram vendidas pelo Ricardo antes de 2011."
   ]
  },
  {
   "cell_type": "code",
   "execution_count": 21,
   "metadata": {},
   "outputs": [],
   "source": [
    "# Filtrar os dados\n",
    "interval = (dataframe['Data'] < '2011-01-01')\n",
    "\n",
    "qnta = ((dataframe['Dorms.'] == 2) | (dataframe['Dorms.'] == 3))\n",
    "\n",
    "end_dataframe = dataframe[(dataframe['Vendedor'] == 'Ricardo') & (dataframe['Tipo'] == 'Casa') & interval & qnta]\n",
    "\n",
    "# Mapear o caminho final e definir um nome para o arquivo\n",
    "output_path = \"./answers_imobiliaria/\"\n",
    "arq_name = 'casas_2ou3_dormitorios_antes_2011_ricardo.xlsx'\n",
    "\n",
    "# Salvar o arquivo na pasta\n",
    "end_dataframe.to_excel(output_path + arq_name, index=False)"
   ]
  },
  {
   "cell_type": "markdown",
   "metadata": {},
   "source": [
    "### Exercício 03"
   ]
  },
  {
   "cell_type": "markdown",
   "metadata": {},
   "source": [
    "* a) Crie um programa em pandas para ler o arquivo em Excel vendas.xlsx e coloque em um dataframe."
   ]
  },
  {
   "cell_type": "code",
   "execution_count": 59,
   "metadata": {},
   "outputs": [],
   "source": [
    "document_path = './Vendas.xlsx'\n",
    "\n",
    "dataframe = pd.read_excel(document_path)"
   ]
  },
  {
   "cell_type": "markdown",
   "metadata": {},
   "source": [
    "* c) Visualize o cabeçalho dos dados;"
   ]
  },
  {
   "cell_type": "code",
   "execution_count": 28,
   "metadata": {},
   "outputs": [
    {
     "data": {
      "text/html": [
       "<div>\n",
       "<style scoped>\n",
       "    .dataframe tbody tr th:only-of-type {\n",
       "        vertical-align: middle;\n",
       "    }\n",
       "\n",
       "    .dataframe tbody tr th {\n",
       "        vertical-align: top;\n",
       "    }\n",
       "\n",
       "    .dataframe thead th {\n",
       "        text-align: right;\n",
       "    }\n",
       "</style>\n",
       "<table border=\"1\" class=\"dataframe\">\n",
       "  <thead>\n",
       "    <tr style=\"text-align: right;\">\n",
       "      <th></th>\n",
       "      <th>Coluna 1</th>\n",
       "      <th>Coluna 2</th>\n",
       "      <th>Coluna 3</th>\n",
       "      <th>Coluna 4</th>\n",
       "      <th>Coluna 5</th>\n",
       "      <th>Coluna 6</th>\n",
       "    </tr>\n",
       "  </thead>\n",
       "  <tbody>\n",
       "    <tr>\n",
       "      <th>0</th>\n",
       "      <td>2014-01-01</td>\n",
       "      <td>Bernardo de Sousa</td>\n",
       "      <td>Supervisor de Vendas Pl</td>\n",
       "      <td>ACME</td>\n",
       "      <td>AL</td>\n",
       "      <td>3276.2</td>\n",
       "    </tr>\n",
       "  </tbody>\n",
       "</table>\n",
       "</div>"
      ],
      "text/plain": [
       "    Coluna 1           Coluna 2                 Coluna 3 Coluna 4 Coluna 5  \\\n",
       "0 2014-01-01  Bernardo de Sousa  Supervisor de Vendas Pl     ACME       AL   \n",
       "\n",
       "   Coluna 6  \n",
       "0    3276.2  "
      ]
     },
     "execution_count": 28,
     "metadata": {},
     "output_type": "execute_result"
    }
   ],
   "source": [
    "dataframe.head(1)"
   ]
  },
  {
   "cell_type": "markdown",
   "metadata": {},
   "source": [
    "* d) Visualize as últimas linhas;"
   ]
  },
  {
   "cell_type": "code",
   "execution_count": 29,
   "metadata": {},
   "outputs": [
    {
     "data": {
      "text/html": [
       "<div>\n",
       "<style scoped>\n",
       "    .dataframe tbody tr th:only-of-type {\n",
       "        vertical-align: middle;\n",
       "    }\n",
       "\n",
       "    .dataframe tbody tr th {\n",
       "        vertical-align: top;\n",
       "    }\n",
       "\n",
       "    .dataframe thead th {\n",
       "        text-align: right;\n",
       "    }\n",
       "</style>\n",
       "<table border=\"1\" class=\"dataframe\">\n",
       "  <thead>\n",
       "    <tr style=\"text-align: right;\">\n",
       "      <th></th>\n",
       "      <th>Coluna 1</th>\n",
       "      <th>Coluna 2</th>\n",
       "      <th>Coluna 3</th>\n",
       "      <th>Coluna 4</th>\n",
       "      <th>Coluna 5</th>\n",
       "      <th>Coluna 6</th>\n",
       "    </tr>\n",
       "  </thead>\n",
       "  <tbody>\n",
       "    <tr>\n",
       "      <th>130465</th>\n",
       "      <td>2016-12-31</td>\n",
       "      <td>Liz Azevedo Santos</td>\n",
       "      <td>Vendedor Pl.</td>\n",
       "      <td>Planet Express</td>\n",
       "      <td>SC</td>\n",
       "      <td>9820.71</td>\n",
       "    </tr>\n",
       "  </tbody>\n",
       "</table>\n",
       "</div>"
      ],
      "text/plain": [
       "         Coluna 1            Coluna 2      Coluna 3        Coluna 4 Coluna 5  \\\n",
       "130465 2016-12-31  Liz Azevedo Santos  Vendedor Pl.  Planet Express       SC   \n",
       "\n",
       "        Coluna 6  \n",
       "130465   9820.71  "
      ]
     },
     "execution_count": 29,
     "metadata": {},
     "output_type": "execute_result"
    }
   ],
   "source": [
    "dataframe.tail(1)"
   ]
  },
  {
   "cell_type": "markdown",
   "metadata": {},
   "source": [
    "* e) Escreva um programa para renomear o cabeçalho da tabela com os seguintes nomes:"
   ]
  },
  {
   "cell_type": "code",
   "execution_count": 67,
   "metadata": {},
   "outputs": [
    {
     "data": {
      "text/html": [
       "<div>\n",
       "<style scoped>\n",
       "    .dataframe tbody tr th:only-of-type {\n",
       "        vertical-align: middle;\n",
       "    }\n",
       "\n",
       "    .dataframe tbody tr th {\n",
       "        vertical-align: top;\n",
       "    }\n",
       "\n",
       "    .dataframe thead th {\n",
       "        text-align: right;\n",
       "    }\n",
       "</style>\n",
       "<table border=\"1\" class=\"dataframe\">\n",
       "  <thead>\n",
       "    <tr style=\"text-align: right;\">\n",
       "      <th></th>\n",
       "      <th>Data</th>\n",
       "      <th>Vendedor</th>\n",
       "      <th>Cargo</th>\n",
       "      <th>Cliente</th>\n",
       "      <th>UF</th>\n",
       "      <th>Vendas</th>\n",
       "    </tr>\n",
       "  </thead>\n",
       "  <tbody>\n",
       "  </tbody>\n",
       "</table>\n",
       "</div>"
      ],
      "text/plain": [
       "Empty DataFrame\n",
       "Columns: [Data, Vendedor, Cargo, Cliente, UF, Vendas]\n",
       "Index: []"
      ]
     },
     "execution_count": 67,
     "metadata": {},
     "output_type": "execute_result"
    }
   ],
   "source": [
    "dataframe.columns = [\n",
    "    'Data',\n",
    "    'Vendedor',\n",
    "    'Cargo',\n",
    "    'Cliente',\n",
    "    'UF',\n",
    "    'Vendas'\n",
    "]\n",
    "\n",
    "dataframe.head(0)"
   ]
  },
  {
   "cell_type": "markdown",
   "metadata": {},
   "source": [
    "* g) Quais são os tipos de dados que temos no dataframe?"
   ]
  },
  {
   "cell_type": "code",
   "execution_count": 31,
   "metadata": {},
   "outputs": [
    {
     "data": {
      "text/plain": [
       "Data        datetime64[ns]\n",
       "Vendedor            object\n",
       "Cargo               object\n",
       "Cliente             object\n",
       "UF                  object\n",
       "Vendas             float64\n",
       "dtype: object"
      ]
     },
     "execution_count": 31,
     "metadata": {},
     "output_type": "execute_result"
    }
   ],
   "source": [
    "dataframe.dtypes"
   ]
  },
  {
   "cell_type": "markdown",
   "metadata": {},
   "source": [
    "* h) Há valores faltantes ou nulos?"
   ]
  },
  {
   "cell_type": "code",
   "execution_count": 32,
   "metadata": {},
   "outputs": [
    {
     "name": "stdout",
     "output_type": "stream",
     "text": [
      "<class 'pandas.core.frame.DataFrame'>\n",
      "RangeIndex: 130466 entries, 0 to 130465\n",
      "Data columns (total 6 columns):\n",
      " #   Column    Non-Null Count   Dtype         \n",
      "---  ------    --------------   -----         \n",
      " 0   Data      130466 non-null  datetime64[ns]\n",
      " 1   Vendedor  130466 non-null  object        \n",
      " 2   Cargo     130466 non-null  object        \n",
      " 3   Cliente   130466 non-null  object        \n",
      " 4   UF        130466 non-null  object        \n",
      " 5   Vendas    130466 non-null  float64       \n",
      "dtypes: datetime64[ns](1), float64(1), object(4)\n",
      "memory usage: 6.0+ MB\n"
     ]
    }
   ],
   "source": [
    "dataframe.info()"
   ]
  },
  {
   "cell_type": "markdown",
   "metadata": {},
   "source": [
    "* i) Calcule a soma, média, máximo, mínimo e contagem da coluna Preço."
   ]
  },
  {
   "cell_type": "code",
   "execution_count": 34,
   "metadata": {},
   "outputs": [
    {
     "name": "stdout",
     "output_type": "stream",
     "text": [
      "Soma da coluna preço: R$ 718,501,609\n",
      "Média da coluna preço: R$ 5,507\n",
      "Valor mínimo da coluna preço: R$ 1,000\n",
      "Valor máximo da coluna preço: R$ 10,000\n",
      "Contagem da coluna preço: 130466\n"
     ]
    }
   ],
   "source": [
    "print(f\"Soma da coluna preço: R$ {dataframe['Vendas'].sum():,.0f}\")\n",
    "print(f\"Média da coluna preço: R$ {dataframe['Vendas'].mean():,.0f}\")\n",
    "print(f\"Valor mínimo da coluna preço: R$ {dataframe['Vendas'].min():,.0f}\")\n",
    "print(f\"Valor máximo da coluna preço: R$ {dataframe['Vendas'].max():,.0f}\")\n",
    "print(f\"Contagem da coluna preço: {dataframe['Vendas'].count()}\")"
   ]
  },
  {
   "cell_type": "markdown",
   "metadata": {},
   "source": [
    "* j) Crie um programa para criar um dataframe para mostrar as vendas por cargo, e salvar um arquivo em csv para com o nome de cada cargo:\n",
    "\n",
    "1. Supervisor de Vendas Pl\n",
    "2. Gerente Regional Jr.\n",
    "3. Supervisor de Vendas Sr\n",
    "4. Coordenador de Vendas Pl.\n",
    "5. Vendedor Jr.\n",
    "6. Vendedor Sr.\n",
    "7. Vendedor Pl.\n",
    "8. Gerente Regional Pl.\n",
    "9. Coordenador de Vendas Sr.\n",
    "10. Coordenador de Vendas Jr.\n",
    "11. Supervisor de Vendas Jr."
   ]
  },
  {
   "cell_type": "code",
   "execution_count": 70,
   "metadata": {},
   "outputs": [
    {
     "data": {
      "text/plain": [
       "pandas.core.series.Series"
      ]
     },
     "execution_count": 70,
     "metadata": {},
     "output_type": "execute_result"
    }
   ],
   "source": [
    "# Mapear o caminho final e definir um nome para o arquivo\n",
    "output_path = \"./answers_vendas/\"\n",
    "\n",
    "for position in dataframe['Cargo'].drop_duplicates():\n",
    "\n",
    "    dataframe[dataframe['Cargo'] == position].to_excel(output_path + f'{position.lower().replace(\".\", \"\")}.xlsx', index=False)"
   ]
  },
  {
   "cell_type": "markdown",
   "metadata": {},
   "source": [
    "* k) Crie um dataframe para cada coluna, contendo dados únicos."
   ]
  },
  {
   "cell_type": "code",
   "execution_count": 62,
   "metadata": {},
   "outputs": [
    {
     "data": {
      "text/plain": [
       "0          Bernardo de Sousa\n",
       "1          Bernardo de Sousa\n",
       "2          Bernardo de Sousa\n",
       "3          Bernardo de Sousa\n",
       "4          Bernardo de Sousa\n",
       "                 ...        \n",
       "130461    Liz Azevedo Santos\n",
       "130462    Liz Azevedo Santos\n",
       "130463    Liz Azevedo Santos\n",
       "130464    Liz Azevedo Santos\n",
       "130465    Liz Azevedo Santos\n",
       "Name: Coluna 2, Length: 130466, dtype: object"
      ]
     },
     "execution_count": 62,
     "metadata": {},
     "output_type": "execute_result"
    }
   ],
   "source": [
    "dataframes = []\n",
    "\n",
    "for column in dataframe.columns:\n",
    "\n",
    "    dataframes.append(dataframe[column])"
   ]
  }
 ],
 "metadata": {
  "kernelspec": {
   "display_name": "Python 3",
   "language": "python",
   "name": "python3"
  },
  "language_info": {
   "codemirror_mode": {
    "name": "ipython",
    "version": 3
   },
   "file_extension": ".py",
   "mimetype": "text/x-python",
   "name": "python",
   "nbconvert_exporter": "python",
   "pygments_lexer": "ipython3",
   "version": "3.11.0"
  }
 },
 "nbformat": 4,
 "nbformat_minor": 2
}
