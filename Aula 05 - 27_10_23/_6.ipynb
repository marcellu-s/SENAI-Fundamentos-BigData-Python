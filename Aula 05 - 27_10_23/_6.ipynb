{
 "cells": [
  {
   "cell_type": "code",
   "execution_count": 219,
   "metadata": {},
   "outputs": [],
   "source": [
    "from modules import *\n",
    "from random import randint"
   ]
  },
  {
   "cell_type": "markdown",
   "metadata": {},
   "source": [
    "### Loop FOR\n",
    "\n",
    "> A estrutura de repetição for pode atuar sobre itens de qualquer tipo de sequência\n",
    "(lista ou string) na ordem em que aparecem."
   ]
  },
  {
   "cell_type": "code",
   "execution_count": 7,
   "metadata": {},
   "outputs": [
    {
     "name": "stdout",
     "output_type": "stream",
     "text": [
      "1 -> Goiaba\n",
      "2 -> Manga\n",
      "3 -> Ameixa\n"
     ]
    }
   ],
   "source": [
    "fruits = ['Goiaba', 'Manga', 'Ameixa']\n",
    "\n",
    "for index, fruit in enumerate(fruits):\n",
    "\n",
    "    print(f\"{index+1} -> {fruit}\")"
   ]
  },
  {
   "cell_type": "markdown",
   "metadata": {},
   "source": [
    "### Loop condicional FOR + IF"
   ]
  },
  {
   "cell_type": "code",
   "execution_count": 2,
   "metadata": {},
   "outputs": [
    {
     "name": "stdout",
     "output_type": "stream",
     "text": [
      "Ameixa\n"
     ]
    }
   ],
   "source": [
    "fruits = ['Goiaba', 'Manga', 'Ameixa']\n",
    "\n",
    "for fruit in fruits:\n",
    "\n",
    "    if fruit.lower().startswith('a'):\n",
    "\n",
    "        print(fruit)"
   ]
  },
  {
   "cell_type": "markdown",
   "metadata": {},
   "source": [
    "### For acumulador"
   ]
  },
  {
   "cell_type": "code",
   "execution_count": 3,
   "metadata": {},
   "outputs": [
    {
     "name": "stdout",
     "output_type": "stream",
     "text": [
      "55\n"
     ]
    }
   ],
   "source": [
    "values = [1, 2, 3, 4, 5, 6, 7, 8, 9, 10]\n",
    "\n",
    "soma = 0\n",
    "\n",
    "for value in values:    \n",
    "\n",
    "    soma += value\n",
    "\n",
    "print(soma)"
   ]
  },
  {
   "cell_type": "markdown",
   "metadata": {},
   "source": [
    "### Exercício 06\n",
    "\n",
    ">Faça um programa que imprima na tela os números de 1 a 20, um abaixo\n",
    "do outro. Depois modifique o programa para que ele mostre os números um ao lado do\n",
    "outro."
   ]
  },
  {
   "cell_type": "code",
   "execution_count": 40,
   "metadata": {},
   "outputs": [
    {
     "name": "stdout",
     "output_type": "stream",
     "text": [
      "-> 1\n",
      "-> 2\n",
      "-> 3\n",
      "-> 4\n",
      "-> 5\n",
      "-> 6\n",
      "-> 7\n",
      "-> 8\n",
      "-> 9\n",
      "-> 10\n",
      "-> 11\n",
      "-> 12\n",
      "-> 13\n",
      "-> 14\n",
      "-> 15\n",
      "-> 16\n",
      "-> 17\n",
      "-> 18\n",
      "-> 19\n",
      "-> 20\n",
      "-> 1 -> 2 -> 3 -> 4 -> 5 -> 6 -> 7 -> 8 -> 9 -> 10 -> 11 -> 12 -> 13 -> 14 -> 15 -> 16 -> 17 -> 18 -> 19 -> 20 "
     ]
    }
   ],
   "source": [
    "for value in range(0, 20):\n",
    "\n",
    "    print(f'-> {value+1}')\n",
    "\n",
    "for value in range(0, 20):\n",
    "\n",
    "    print(f'-> {value+1}', end=\" \")"
   ]
  },
  {
   "cell_type": "markdown",
   "metadata": {},
   "source": [
    "### Exerício 07\n",
    "\n",
    "> Faça um programa que leia 5 números e informe o maior número."
   ]
  },
  {
   "cell_type": "code",
   "execution_count": 10,
   "metadata": {},
   "outputs": [
    {
     "name": "stdout",
     "output_type": "stream",
     "text": [
      "8.0\n"
     ]
    }
   ],
   "source": [
    "values = []\n",
    "\n",
    "for x in range(0, 5):\n",
    "\n",
    "    values.append(inputFloat(f'Informe o {x+1}º número: '))\n",
    "\n",
    "print(max(values))"
   ]
  },
  {
   "cell_type": "markdown",
   "metadata": {},
   "source": [
    "### Exercício 08\n",
    "\n",
    "> Faça um programa que leia 5 números e informe a soma e a média dos\n",
    "números."
   ]
  },
  {
   "cell_type": "code",
   "execution_count": 13,
   "metadata": {},
   "outputs": [
    {
     "name": "stdout",
     "output_type": "stream",
     "text": [
      "5.0\n",
      "1.0\n"
     ]
    }
   ],
   "source": [
    "values = []\n",
    "\n",
    "for x in range(0, 5):\n",
    "\n",
    "    values.append(inputFloat(f'Informe o {x+1}º número: '))\n",
    "\n",
    "print(sum(values))\n",
    "print(sum(values) / len(values))"
   ]
  },
  {
   "cell_type": "markdown",
   "metadata": {},
   "source": [
    "### Exercício 09\n",
    "\n",
    "> Faça um programa que imprima na tela apenas os números ímpares\n",
    "entre 1 e 50."
   ]
  },
  {
   "cell_type": "code",
   "execution_count": 19,
   "metadata": {},
   "outputs": [
    {
     "name": "stdout",
     "output_type": "stream",
     "text": [
      "-> Ímpar: 2\n",
      "-> Ímpar: 4\n",
      "-> Ímpar: 6\n",
      "-> Ímpar: 8\n",
      "-> Ímpar: 10\n",
      "-> Ímpar: 12\n",
      "-> Ímpar: 14\n",
      "-> Ímpar: 16\n",
      "-> Ímpar: 18\n",
      "-> Ímpar: 20\n",
      "-> Ímpar: 22\n",
      "-> Ímpar: 24\n",
      "-> Ímpar: 26\n",
      "-> Ímpar: 28\n",
      "-> Ímpar: 30\n",
      "-> Ímpar: 32\n",
      "-> Ímpar: 34\n",
      "-> Ímpar: 36\n",
      "-> Ímpar: 38\n",
      "-> Ímpar: 40\n",
      "-> Ímpar: 42\n",
      "-> Ímpar: 44\n",
      "-> Ímpar: 46\n",
      "-> Ímpar: 48\n",
      "-> Ímpar: 50\n"
     ]
    }
   ],
   "source": [
    "values = list(range(1, 51))\n",
    "\n",
    "for value in values:\n",
    "\n",
    "    if value % 2 == 0:\n",
    "\n",
    "        print(f\"-> Ímpar: {value}\")"
   ]
  },
  {
   "cell_type": "markdown",
   "metadata": {},
   "source": [
    "### Exercício 10\n",
    "\n",
    "> Faça um programa que receba dois números inteiros e gere os números\n",
    "inteiros que estão no intervalo compreendido por eles."
   ]
  },
  {
   "cell_type": "code",
   "execution_count": 132,
   "metadata": {},
   "outputs": [
    {
     "name": "stdout",
     "output_type": "stream",
     "text": [
      "-> 10 -> 11 -> 12 -> 13 -> 14 -> 15 -> 16 -> 17 -> 18 -> 19 -> 20 -> 21 -> 22 -> 23 -> 24 -> 25 -> 26 -> 27 -> 28 -> 29 -> 30 -> 31 -> 32 -> 33 -> 34 -> 35 -> 36 "
     ]
    }
   ],
   "source": [
    "values = []\n",
    "\n",
    "for x in range(0, 2):\n",
    "\n",
    "    values.append(inputInt(f'Informe o {x+1}º número: '))\n",
    "\n",
    "for value in (range(values[0], values[1]+1)):\n",
    "\n",
    "    print(f\"-> {value}\", end=\" \")"
   ]
  },
  {
   "cell_type": "markdown",
   "metadata": {},
   "source": [
    "### Exercício 11\n",
    "\n",
    "> Altere o programa anterior para mostrar no final a soma dos números."
   ]
  },
  {
   "cell_type": "code",
   "execution_count": 25,
   "metadata": {},
   "outputs": [
    {
     "name": "stdout",
     "output_type": "stream",
     "text": [
      "-> 2 -> 3 \n",
      "Soma: 5\n"
     ]
    }
   ],
   "source": [
    "values = []\n",
    "\n",
    "soma = 0\n",
    "\n",
    "for x in range(0, 2):\n",
    "\n",
    "    values.append(inputInt(f'Informe o {x+1}º número: '))\n",
    "\n",
    "for value in (range(values[0], values[1]+1)):\n",
    "\n",
    "    soma += value\n",
    "    print(f\"-> {value}\", end=\" \")\n",
    "\n",
    "print(f'\\nSoma: {soma}')"
   ]
  },
  {
   "cell_type": "markdown",
   "metadata": {},
   "source": [
    "### Exercício 12\n",
    "\n",
    "> Desenvolva um gerador de tabuada, capaz de gerar a tabuada de\n",
    "qualquer número inteiro entre 1 a 10. O usuário deve informar de qual numero ele deseja\n",
    "ver a tabuada. A saída deve ser conforme o exemplo abaixo:"
   ]
  },
  {
   "cell_type": "code",
   "execution_count": 38,
   "metadata": {},
   "outputs": [
    {
     "name": "stdout",
     "output_type": "stream",
     "text": [
      "5 x 1 = 5\n",
      "5 x 2 = 10\n",
      "5 x 3 = 15\n",
      "5 x 4 = 20\n",
      "5 x 5 = 25\n",
      "5 x 6 = 30\n",
      "5 x 7 = 35\n",
      "5 x 8 = 40\n",
      "5 x 9 = 45\n",
      "5 x 10 = 50\n"
     ]
    }
   ],
   "source": [
    "tabuada = inputInt(\"Qual tabuada você deseja ver?: \")\n",
    "\n",
    "for value in range(1, 11):\n",
    "\n",
    "    print(f\"{tabuada} x {value} = {tabuada * value}\")"
   ]
  },
  {
   "cell_type": "markdown",
   "metadata": {},
   "source": [
    "### Exercício 13\n",
    "\n",
    "> Faça um programa que peça dois números, base e expoente, calcule e\n",
    "mostre o primeiro número elevado ao segundo número. Não utilize a função de potência\n",
    "da linguagem."
   ]
  },
  {
   "cell_type": "code",
   "execution_count": 85,
   "metadata": {},
   "outputs": [
    {
     "name": "stdout",
     "output_type": "stream",
     "text": [
      "Potência na mão: 25.0\n",
      "Potência com o pow(): 25.0\n"
     ]
    }
   ],
   "source": [
    "base = inputFloat('Informe a base da potência: ')\n",
    "expoente = inputInt('Informe o expoente da potência: ')\n",
    "\n",
    "potencia = base\n",
    "\n",
    "for i in range(1, expoente):\n",
    "    \n",
    "    potencia *= base\n",
    "\n",
    "\n",
    "print(f'Potência na mão: {potencia}')\n",
    "print(f'Potência com o pow(): {pow(base, expoente)}')"
   ]
  },
  {
   "cell_type": "markdown",
   "metadata": {},
   "source": [
    "### Exercício 14\n",
    "\n",
    "> Faça um programa que peça 10 números inteiros, calcule e mostre a\n",
    "quantidade de números pares e a quantidade de números ímpares."
   ]
  },
  {
   "cell_type": "code",
   "execution_count": 101,
   "metadata": {},
   "outputs": [
    {
     "name": "stdout",
     "output_type": "stream",
     "text": [
      "Todos os números: [1, 2, 3, 4, 5, 6, 7, 8, 9, 10]\n",
      "\n",
      "Total de pares: 5 - [2, 4, 6, 8, 10]\n",
      "Total de ímpares: 5 - [1, 3, 5, 7, 9]\n"
     ]
    }
   ],
   "source": [
    "values = list(range(1, 11))\n",
    "\n",
    "pares = []\n",
    "impar = []\n",
    "\n",
    "for value in values:\n",
    "\n",
    "    pares.append(value) if value % 2 == 0 else impar.append(value) \n",
    "\n",
    "print(f\"Todos os números: {values}\\n\")\n",
    "\n",
    "print(f\"Total de pares: {len(pares)} - {pares}\")\n",
    "print(f\"Total de ímpares: {len(impar)} - {impar}\")"
   ]
  },
  {
   "cell_type": "markdown",
   "metadata": {},
   "source": [
    "### Exercício 15\n",
    "\n",
    "> A série de Fibonacci é formada pela sequência 1,1,2,3,5,8,13,21,34,55,...\n",
    "Faça um programa capaz de gerar a série até o enésimo termo."
   ]
  },
  {
   "cell_type": "code",
   "execution_count": 205,
   "metadata": {},
   "outputs": [
    {
     "name": "stdout",
     "output_type": "stream",
     "text": [
      "0 -> 1 -> 1 -> 2 -> 3 -> 5 -> 8 -> 13 -> 21 -> 34 -> 55 -> 89 -> 144 -> 233 -> 377 "
     ]
    }
   ],
   "source": [
    "qnta = inputInt('Quantos termos deseja ver?: ')\n",
    "\n",
    "prev, next = 0, 1\n",
    "\n",
    "for c in range(0, qnta):\n",
    "    \n",
    "    print(f'{prev} ->' if c < qnta-1 else prev, end=\" \")\n",
    "\n",
    "    prev, next = next, prev + next"
   ]
  },
  {
   "cell_type": "markdown",
   "metadata": {},
   "source": [
    "### Exercício 16\n",
    "\n",
    "> A série de Fibonacci é formada pela sequência\n",
    "0,1,1,2,3,5,8,13,21,34,55,... Faça um programa que gere a série até que o valor seja\n",
    "maior que 500."
   ]
  },
  {
   "cell_type": "code",
   "execution_count": 213,
   "metadata": {},
   "outputs": [
    {
     "name": "stdout",
     "output_type": "stream",
     "text": [
      "0 -> 1 -> 1 -> 2 -> 3 -> 5 -> 8 -> 13 -> 21 -> 34 -> 55 -> 89 -> 144 -> 233 -> 377 -> "
     ]
    }
   ],
   "source": [
    "prev, next = 0, 1\n",
    "\n",
    "while prev < 500:\n",
    "\n",
    "    print(prev, end=\" -> \")\n",
    "    \n",
    "    prev, next = next, prev + next\n",
    "    "
   ]
  },
  {
   "cell_type": "markdown",
   "metadata": {},
   "source": [
    "### Exercício 17 \n",
    "\n",
    "> Faça um programa que calcule o fatorial de um número inteiro fornecido\n",
    "pelo usuário. Ex.: 5!=5.4.3.2.1=120"
   ]
  },
  {
   "cell_type": "code",
   "execution_count": 197,
   "metadata": {},
   "outputs": [
    {
     "name": "stdout",
     "output_type": "stream",
     "text": [
      "5! 4 3 2 1 = 120\n"
     ]
    }
   ],
   "source": [
    "value = inputInt(\"Digite um número: \")\n",
    "\n",
    "fatorial = 1\n",
    "\n",
    "for i in range(value, 0, -1):\n",
    "\n",
    "    print(f'{value}!' if i == value else f'{i}', end=\" \")\n",
    "\n",
    "    fatorial *= i \n",
    "\n",
    "print(f'= {fatorial}')"
   ]
  },
  {
   "cell_type": "markdown",
   "metadata": {},
   "source": [
    "### Exercício 18\n",
    "\n",
    "> Faça um programa que, dado um conjunto de N números, determine o\n",
    "menor valor, o maior valor e a soma dos valores."
   ]
  },
  {
   "cell_type": "code",
   "execution_count": 218,
   "metadata": {},
   "outputs": [
    {
     "name": "stdout",
     "output_type": "stream",
     "text": [
      "[14, 60, 40, 77, 88, 60, 27, 53, 0, 37, 45, 54, 88, 12, 86, 66, 51, 63, 86, 37, 5, 2, 42, 87, 34, 28, 93, 96, 55, 41] \n",
      "\n",
      "Menor valor: 0\n",
      "Maior valor: 96\n",
      "Soma dos valores: 1527\n"
     ]
    }
   ],
   "source": [
    "values = []\n",
    "\n",
    "for c in range(0, 30):\n",
    "\n",
    "    values.append(randint(0, 100))\n",
    "\n",
    "print(values, '\\n')\n",
    "\n",
    "print(f'Menor valor: {min(values)}')\n",
    "print(f'Maior valor: {max(values)}')\n",
    "print(f'Soma dos valores: {sum(values)}')"
   ]
  },
  {
   "cell_type": "markdown",
   "metadata": {},
   "source": [
    "### Exercício 19\n",
    "\n",
    "> Altere o programa anterior para que ele aceite apenas números entre 0\n",
    "e 1000."
   ]
  },
  {
   "cell_type": "code",
   "execution_count": 220,
   "metadata": {},
   "outputs": [
    {
     "name": "stdout",
     "output_type": "stream",
     "text": [
      "[217, 292, 257, 837, 682, 192, 111, 87, 854, 52, 851, 120, 817, 193, 733, 998, 236, 616, 665, 477, 598, 324, 163, 686, 935, 770, 245, 739, 499, 420] \n",
      "\n",
      "Menor valor: 52\n",
      "Maior valor: 998\n",
      "Soma dos valores: 14666\n"
     ]
    }
   ],
   "source": [
    "values = []\n",
    "\n",
    "for c in range(0, 30):\n",
    "\n",
    "    values.append(randint(0, 1000))\n",
    "\n",
    "print(values, '\\n')\n",
    "\n",
    "print(f'Menor valor: {min(values)}')\n",
    "print(f'Maior valor: {max(values)}')\n",
    "print(f'Soma dos valores: {sum(values)}')"
   ]
  },
  {
   "cell_type": "markdown",
   "metadata": {},
   "source": [
    "### Exercício 20 \n",
    "\n",
    "> Altere o programa de cálculo do fatorial, permitindo ao usuário calcular o\n",
    "fatorial várias vezes e limitando o fatorial a números inteiros positivos e menores que 16."
   ]
  },
  {
   "cell_type": "code",
   "execution_count": null,
   "metadata": {},
   "outputs": [],
   "source": [
    "while True:\n",
    "\n",
    "    op = menu(\"FATORIAL\", [\"Calcular fatorial\", \"Sair\" ])\n",
    "\n",
    "    if op == 1:\n",
    "\n",
    "        value = inputInt(\"Digite um número: \")\n",
    "\n",
    "        fatorial = 1\n",
    "\n",
    "        for i in range(value, 0, -1):\n",
    "\n",
    "            print(f'{value}!' if i == value else f'{i}', end=\" \")\n",
    "\n",
    "            fatorial *= i \n",
    "\n",
    "        print(f'= {fatorial}')\n",
    "\n",
    "    elif op == 2:\n",
    "\n",
    "        break"
   ]
  }
 ],
 "metadata": {
  "kernelspec": {
   "display_name": "Python 3",
   "language": "python",
   "name": "python3"
  },
  "language_info": {
   "codemirror_mode": {
    "name": "ipython",
    "version": 3
   },
   "file_extension": ".py",
   "mimetype": "text/x-python",
   "name": "python",
   "nbconvert_exporter": "python",
   "pygments_lexer": "ipython3",
   "version": "3.11.0"
  }
 },
 "nbformat": 4,
 "nbformat_minor": 2
}
